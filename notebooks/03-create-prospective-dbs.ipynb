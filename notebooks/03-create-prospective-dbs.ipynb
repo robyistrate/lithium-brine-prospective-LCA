{
 "cells": [
  {
   "cell_type": "markdown",
   "id": "a2af9668",
   "metadata": {},
   "source": [
    "# Create prospective LCI databases\n",
    "\n",
    "This notebook creates prosepctive LCI databases based on lithium supply scenario data, project-specific LCIs, ecoinvent database, and premise.\n",
    "\n",
    "The following steps are involved:\n",
    "\n",
    "1- Create the configuration file for integrating IEA electricity scenarios via premise\n",
    "\n",
    "2- Create background LCI databases based on IAM and IEA scenarios\n",
    "\n",
    "3- Create foreground LCI databases with lithium supply scenarios\n",
    "\n"
   ]
  },
  {
   "cell_type": "code",
   "execution_count": 1,
   "id": "afb8dca3-5d90-45a4-a5e7-4582ce5aa322",
   "metadata": {},
   "outputs": [],
   "source": [
    "import pandas as pd\n",
    "import yaml\n",
    "import brightway2 as bw\n",
    "from premise import *\n",
    "from premise.utils import (load_database, eidb_label)\n",
    "from premise.new_database import _prepare_database\n",
    "from premise.brightway2 import write_brightway_database\n",
    "import wurst\n",
    "from datapackage import Package\n",
    "from pathlib import Path\n",
    "from itertools import chain, product\n",
    "import copy\n",
    "from utils import(\n",
    "    mapping_scenario_variables_to_ids,\n",
    "    populate_prod_pathaways,\n",
    "    relink_to_regionalized_water\n",
    "    )\n",
    "\n",
    "# Define data paths\n",
    "PROJECT_PATH = Path(\"../\")\n",
    "SCENARIO_DATA_PATH = PROJECT_PATH / \"scenario_data\"\n",
    "CONFIG_FILE_PATH = PROJECT_PATH / \"configuration_file\"\n",
    "DATAPACKAGE_PATH = PROJECT_PATH / 'datapackage.json'\n",
    "\n",
    "LITHIUM_SCENARIO_DATA_PATH = SCENARIO_DATA_PATH / \"external\" / \"lithium_scenario_data_with_others_22-01-2025.csv\"\n",
    "ELECTRICITY_SCENARIO_DATA_PATH = SCENARIO_DATA_PATH / \"scenario_data_electricity.csv\"\n",
    "\n",
    "MAP_LITHIUM_LCIS_PATH = SCENARIO_DATA_PATH / \"map_litihum_projects_to_lci.xlsx\"\n",
    "MAP_ELECTRICITY_LCIS_PATH = SCENARIO_DATA_PATH / \"map_electricity_tech_to_lci.xlsx\""
   ]
  },
  {
   "cell_type": "code",
   "execution_count": null,
   "id": "cf44647f",
   "metadata": {},
   "outputs": [],
   "source": [
    "# Set-up BW project\n",
    "BW_PROJECT = 'lithium_brine'\n",
    "bw.projects.set_current(BW_PROJECT)\n",
    "\n",
    "EI_DB = \"ecoinvent-3.10-cutoff\"\n",
    "LI_PROJECTS_DB = \"lithium_brine_projects\"\n",
    "WATER_BIO_DB = \"biosphere water regionalized\"\n",
    "water_flows_regionalized = [act for act in bw.Database(WATER_BIO_DB)]\n",
    "\n",
    "PREMISE_KEY = 'XXXXXXXXXXXXXXX' # <- insert premise key here (get it from developer)"
   ]
  },
  {
   "cell_type": "markdown",
   "id": "1cf6d1e3",
   "metadata": {},
   "source": [
    "## 1. Create background LCI databases\n",
    "\n",
    "Here we create the background LCI databases using *premise* and integrate electricity mixes from IEA"
   ]
  },
  {
   "cell_type": "markdown",
   "id": "51f1007e",
   "metadata": {},
   "source": [
    "### 1.1 Create configuration file for IEA electricity scenarios for use in premise"
   ]
  },
  {
   "cell_type": "code",
   "execution_count": null,
   "id": "e645ce03",
   "metadata": {},
   "outputs": [],
   "source": [
    "# Import electricity scenario data and mapping file between electricity variables and LCI datasets\n",
    "scenario_data_electricity = pd.read_csv(ELECTRICITY_SCENARIO_DATA_PATH)\n",
    "map_elec_tech_to_lci = pd.read_excel(MAP_ELECTRICITY_LCIS_PATH)\n",
    "map_elec_tech_to_lci = dict(chain(zip(map_elec_tech_to_lci['Power generation technology'], map_elec_tech_to_lci['LCI dataset'])))\n",
    "\n",
    "# Map scenario variables to variable ID\n",
    "elec_scenario_variables = mapping_scenario_variables_to_ids(scenario_data_electricity)\n",
    "\n",
    "# Create config file for electricity\n",
    "config_file_elec = {}\n",
    "\n",
    "# Define market names\n",
    "ELEC_HIGH_VOLT_MARKET = \"market for electricity, high voltage, IEA\"\n",
    "ELEC_MEDIUM_VOLT_MARKET = \"market for electricity, medium voltage, IEA\"\n",
    "ELEC_LOW_VOLT_MARKET = \"market for electricity, low voltage, IEA\"\n",
    "\n",
    "# Populate production pathways\n",
    "config_file_elec[\"production pathways\"] = {}\n",
    "\n",
    "for var_id in elec_scenario_variables:\n",
    "\n",
    "    if var_id == \"Low to medium\":\n",
    "        # Conversion of low voltage to medium voltage\n",
    "        var_lci = ELEC_MEDIUM_VOLT_MARKET\n",
    "        var_product = \"electricity, medium voltage\"\n",
    "        in_ecoinvent = False\n",
    "        regionalize = False\n",
    "        new_dataset = True\n",
    "\n",
    "    elif var_id == \"Medium to high\":\n",
    "        # Conversion of medium voltage to high voltage\n",
    "        var_lci = ELEC_HIGH_VOLT_MARKET\n",
    "        var_product = \"electricity, high voltage\"\n",
    "        in_ecoinvent = False\n",
    "        regionalize = False\n",
    "        new_dataset = True\n",
    "\n",
    "    else:\n",
    "        var_lci = map_elec_tech_to_lci[var_id]\n",
    "        regionalize = False\n",
    "        new_dataset = False\n",
    "        in_ecoinvent = True\n",
    "\n",
    "        if var_id == \"Solar PV\":\n",
    "            var_product = \"electricity, low voltage\"\n",
    "        else:\n",
    "            var_product = \"electricity, high voltage\"\n",
    "        \n",
    "    populate_prod_pathaways(\n",
    "        config_file=config_file_elec, \n",
    "        var_id=var_id, \n",
    "        var_lci=var_lci, \n",
    "        var_product=var_product, \n",
    "        in_ecoinvent=in_ecoinvent, \n",
    "        regionalize=regionalize,\n",
    "        new_dataset=new_dataset, \n",
    "        var=elec_scenario_variables[var_id]\n",
    "    )\n",
    "\n",
    "# Populate markets\n",
    "config_file_elec[\"markets\"] = [\n",
    "\n",
    "    # High voltage electricity market\n",
    "    {\n",
    "        \"name\": ELEC_HIGH_VOLT_MARKET,\n",
    "        \"reference product\": \"electricity, high voltage\",\n",
    "        \"unit\": \"kilowatt hour\",\n",
    "        \"includes\": [i for i in elec_scenario_variables.keys() if i not in [\"Low to medium\", \"Medium to high\"]],\n",
    "        \"replaces\": [\n",
    "            {\n",
    "                \"name\": \"market for electricity, high voltage\",\n",
    "                \"product\": \"electricity, high voltage\",\n",
    "                \"location\": \"CL\"\n",
    "            },\n",
    "            {\n",
    "                \"name\": \"market for electricity, high voltage\",\n",
    "                \"product\": \"electricity, high voltage\",\n",
    "                \"location\": \"AR\"\n",
    "            }],\n",
    "        \"except regions\": [\"World\"]\n",
    "    },\n",
    "    \n",
    "    # Medium voltage electricity market\n",
    "    {\n",
    "        \"name\": ELEC_MEDIUM_VOLT_MARKET,\n",
    "        \"reference product\": \"electricity, medium voltage\",\n",
    "        \"unit\": \"kilowatt hour\",\n",
    "        \"includes\": [\"Medium to high\"],\n",
    "        \"replaces\": [\n",
    "            {\n",
    "                \"name\": \"market for electricity, medium voltage\",\n",
    "                \"product\": \"electricity, medium voltage\",\n",
    "                \"location\": \"CL\"\n",
    "            },\n",
    "            {\n",
    "                \"name\": \"market for electricity, medium voltage\",\n",
    "                \"product\": \"electricity, medium voltage\",\n",
    "                \"location\": \"AR\"\n",
    "            }],\n",
    "        \"except regions\": [\"World\"]\n",
    "    },\n",
    "\n",
    "    # Low voltage electricity market\n",
    "    {\n",
    "        \"name\": ELEC_LOW_VOLT_MARKET,\n",
    "        \"reference product\": \"electricity, low voltage\",\n",
    "        \"unit\": \"kilowatt hour\",\n",
    "        \"includes\": [\"Low to medium\"],\n",
    "        \"replaces\": [\n",
    "            {\n",
    "                \"name\": \"market for electricity, low voltage\",\n",
    "                \"product\": \"electricity, low voltage\",\n",
    "                \"location\": \"CL\"\n",
    "            },\n",
    "            {\n",
    "                \"name\": \"market for electricity, low voltage\",\n",
    "                \"product\": \"electricity, low voltage\",\n",
    "                \"location\": \"AR\"\n",
    "            }],\n",
    "        \"except regions\": [\"World\"],\n",
    "    }\n",
    "]\n",
    "\n",
    "# Export config file\n",
    "with open(CONFIG_FILE_PATH / \"config_electricity.yaml\", 'w') as yaml_file:\n",
    "    yaml.dump(config_file_elec, yaml_file, default_flow_style=False)"
   ]
  },
  {
   "cell_type": "markdown",
   "id": "7e57a60f",
   "metadata": {},
   "source": [
    "### 1.2 Generate prospective LCI databases with premise"
   ]
  },
  {
   "cell_type": "code",
   "execution_count": 19,
   "id": "f18fff58",
   "metadata": {},
   "outputs": [
    {
     "name": "stdout",
     "output_type": "stream",
     "text": [
      "premise v.(2, 2, 5)\n",
      "+------------------------------------------------------------------+\n",
      "| Warning                                                          |\n",
      "+------------------------------------------------------------------+\n",
      "| Because some of the scenarios can yield LCI databases            |\n",
      "| containing net negative emission technologies (NET),             |\n",
      "| it is advised to account for biogenic CO2 flows when calculating |\n",
      "| Global Warming potential indicators.                             |\n",
      "| `premise_gwp` provides characterization factors for such flows.  |\n",
      "| It also provides factors for hydrogen emissions to air.          |\n",
      "|                                                                  |\n",
      "| Within your bw2 project:                                         |\n",
      "| from premise_gwp import add_premise_gwp                          |\n",
      "| add_premise_gwp()                                                |\n",
      "+------------------------------------------------------------------+\n",
      "+--------------------------------+----------------------------------+\n",
      "| Utils functions                | Description                      |\n",
      "+--------------------------------+----------------------------------+\n",
      "| clear_cache()                  | Clears the cache folder. Useful  |\n",
      "|                                | when updating `premise`or        |\n",
      "|                                | encountering issues with         |\n",
      "|                                | inventories.                     |\n",
      "+--------------------------------+----------------------------------+\n",
      "| get_regions_definition(model)  | Retrieves the list of countries  |\n",
      "|                                | for each region of the model.    |\n",
      "+--------------------------------+----------------------------------+\n",
      "| ndb.NewDatabase(...)           | Generates a summary of the most  |\n",
      "| ndb.generate_scenario_report() | important scenarios' variables.  |\n",
      "+--------------------------------+----------------------------------+\n",
      "Keep uncertainty data?\n",
      "NewDatabase(..., keep_source_db_uncertainty=True), keep_imports_uncertainty=True)\n",
      "\n",
      "Hide these messages?\n",
      "NewDatabase(..., quiet=True)\n",
      "- Extracting source database\n",
      "- Extracting inventories\n",
      "- Fetching IAM data\n",
      "Done!\n"
     ]
    },
    {
     "name": "stderr",
     "output_type": "stream",
     "text": [
      "Processing scenarios for all sectors: 100%|█| 1/1 [04:38<00:00, 278.02"
     ]
    },
    {
     "name": "stdout",
     "output_type": "stream",
     "text": [
      "Done!\n",
      "\n"
     ]
    },
    {
     "name": "stderr",
     "output_type": "stream",
     "text": [
      "\n"
     ]
    }
   ],
   "source": [
    "# Note: with premive v2.5.5, external scenarios are not incorporated in all databases\n",
    "# database creation needs to be run one-by-one\n",
    "\n",
    "dp_electricity = Package(\"../datapackage_electricity.json\") # read the data package\n",
    "\n",
    "scenarios = [\n",
    "    # NDC scenarios\n",
    "   # {\"model\": \"remind\", \"pathway\": \"SSP2-NDC\", \"year\": 2020, \"external scenarios\": [{\"scenario\": \"STEPS\", \"data\": dp_electricity}]},\n",
    "    {\"model\": \"remind\", \"pathway\": \"SSP2-NDC\", \"year\": 2025, \"external scenarios\": [{\"scenario\": \"STEPS\", \"data\": dp_electricity}]},\n",
    "   # {\"model\": \"remind\", \"pathway\": \"SSP2-NDC\", \"year\": 2030, \"external scenarios\": [{\"scenario\": \"STEPS\", \"data\": dp_electricity}]},\n",
    "   # {\"model\": \"remind\", \"pathway\": \"SSP2-NDC\", \"year\": 2035, \"external scenarios\": [{\"scenario\": \"STEPS\", \"data\": dp_electricity}]},\n",
    "\n",
    "    # SSP2-PkBudget1150 scenarios\n",
    "  #  {\"model\": \"remind\", \"pathway\": \"SSP2-PkBudg1150\", \"year\": 2025, \"external scenarios\": [{\"scenario\": \"APS\", \"data\": dp_electricity}]},\n",
    "  #  {\"model\": \"remind\", \"pathway\": \"SSP2-PkBudg1150\", \"year\": 2030, \"external scenarios\": [{\"scenario\": \"APS\", \"data\": dp_electricity}]},\n",
    "   # {\"model\": \"remind\", \"pathway\": \"SSP2-PkBudg1150\", \"year\": 2035, \"external scenarios\": [{\"scenario\": \"APS\", \"data\": dp_electricity}]}\n",
    "    ]\n",
    "\n",
    "ndb = NewDatabase(\n",
    "        scenarios=scenarios,\n",
    "        source_db=\"ecoinvent-3.10-cutoff\",\n",
    "        source_version=\"3.10\",\n",
    "        key=PREMISE_KEY,\n",
    "        use_absolute_efficiency=True,\n",
    "        biosphere_name=\"ecoinvent-3.10-biosphere\"\n",
    "    )\n",
    "\n",
    "ndb.update()"
   ]
  },
  {
   "cell_type": "code",
   "execution_count": 20,
   "id": "48abc838",
   "metadata": {},
   "outputs": [
    {
     "name": "stdout",
     "output_type": "stream",
     "text": [
      "Write new database(s) to Brightway.\n",
      "Running all checks...\n",
      "Minor anomalies found: check the change report.\n"
     ]
    },
    {
     "name": "stderr",
     "output_type": "stream",
     "text": [
      "Writing activities to SQLite3 database:\n",
      "0% [##############################] 100% | ETA: 00:00:00\n",
      "Total time elapsed: 00:00:56\n"
     ]
    },
    {
     "name": "stdout",
     "output_type": "stream",
     "text": [
      "Title: Writing activities to SQLite3 database:\n",
      "  Started: 01/27/2025 19:52:54\n",
      "  Finished: 01/27/2025 19:53:50\n",
      "  Total time elapsed: 00:00:56\n",
      "  CPU %: 96.50\n",
      "  Memory %: 41.36\n",
      "Created database: ei_cutoff_3.10_remind_SSP2-NDC_2025_STEPS 2025-01-27\n",
      "Generate scenario report.\n",
      "Report saved under c:\\Users\\istrateir\\OneDrive - Universiteit Leiden\\Research\\lithium-prospective-scenarios\\notebooks\\export\\scenario_report.\n",
      "Generate change report.\n",
      "Report saved under c:\\Users\\istrateir\\OneDrive - Universiteit Leiden\\Research\\lithium-prospective-scenarios\\notebooks.\n"
     ]
    }
   ],
   "source": [
    "ndb.write_db_to_brightway()"
   ]
  },
  {
   "cell_type": "markdown",
   "id": "7fdb5c75",
   "metadata": {},
   "source": [
    "## 3. Create foreground LCI databases\n",
    "\n",
    "Here we create the lithium production LCI databases and link them to the corresponding background databases"
   ]
  },
  {
   "cell_type": "code",
   "execution_count": 4,
   "id": "ab799e80",
   "metadata": {},
   "outputs": [],
   "source": [
    "# Define lithium market names\n",
    "LI2CO3_MARKET_ALL = \"market for lithium carbonate, from brine, S&P forecasts\"\n",
    "LI2CO3_MARKET_OTHER = \"market for lithium carbonate, from brine, S&P forecasts, other projects\"\n",
    "LI2CO3_MARKET_PRODUCT = \"lithium carbonate\"\n",
    "\n",
    "# Import lithium scenario data and mapping file between lithium variables and LCI datasets\n",
    "scenario_data_lithium = pd.read_csv(LITHIUM_SCENARIO_DATA_PATH)\n",
    "map_lithium_projects_to_lci = pd.read_excel(MAP_LITHIUM_LCIS_PATH)\n",
    "map_lithium_projects_to_lci = dict(chain(zip(map_lithium_projects_to_lci['Project name'], map_lithium_projects_to_lci['LCI dataset'])))\n",
    "\n",
    "# Map scenario variables to variable ID\n",
    "lithium_scenario_variables = mapping_scenario_variables_to_ids(scenario_data_lithium)"
   ]
  },
  {
   "cell_type": "code",
   "execution_count": null,
   "id": "e2881b3b",
   "metadata": {},
   "outputs": [],
   "source": [
    "# Create the config file for lithium production\n",
    "config_file_lithium = {}\n",
    "\n",
    "# Populate production pathways\n",
    "config_file_lithium[\"production pathways\"] = {}\n",
    "\n",
    "for var_id in lithium_scenario_variables:\n",
    "\n",
    "    if var_id == \"Other projects\":\n",
    "        # The \"Other projects\" category is modelled with the regional average\n",
    "        # impact, therefore using the LI2CO3_MARKET_OTHER dataset\n",
    "        var_lci = LI2CO3_MARKET_OTHER\n",
    "        var_product = LI2CO3_MARKET_PRODUCT\n",
    "        in_ecoinvent = False\n",
    "        regionalize = True\n",
    "        new_dataset = True\n",
    "\n",
    "    else:\n",
    "        var_lci = map_lithium_projects_to_lci[var_id]\n",
    "        var_product = \"df_rotary_dryer\"\n",
    "        regionalize = False\n",
    "        new_dataset = False\n",
    "        in_ecoinvent = False   \n",
    "        \n",
    "    populate_prod_pathaways(\n",
    "        config_file=config_file_lithium, \n",
    "        var_id=var_id, \n",
    "        var_lci=var_lci, \n",
    "        var_product=var_product, \n",
    "        in_ecoinvent=in_ecoinvent, \n",
    "        regionalize=regionalize,\n",
    "        new_dataset=new_dataset, \n",
    "        var=lithium_scenario_variables[var_id]\n",
    "    )\n",
    "\n",
    "# Populate markets\n",
    "config_file_lithium[\"markets\"] = [\n",
    "\n",
    "    # Lithium carbonate market for other projects\n",
    "    {\n",
    "        \"name\": LI2CO3_MARKET_OTHER,\n",
    "        \"reference product\": LI2CO3_MARKET_PRODUCT,\n",
    "        \"unit\": \"kilogram\",\n",
    "        \"includes\": [i for i in lithium_scenario_variables.keys() if i != \"Other projects\"],\n",
    "        \"except regions\": [\"World\"]\n",
    "    },\n",
    "\n",
    "    # Lithium carbonate market\n",
    "    {\n",
    "        \"name\": LI2CO3_MARKET_ALL,\n",
    "        \"reference product\": LI2CO3_MARKET_PRODUCT,\n",
    "        \"unit\": \"kilogram\",\n",
    "        \"includes\": [i for i in lithium_scenario_variables.keys()],\n",
    "        \"replaces\": [\n",
    "            {\n",
    "                \"name\": \"lithium carbonate production, from concentrated brine\",\n",
    "                \"product\": \"lithium carbonate\",\n",
    "                \"location\": \"GLO\"\n",
    "            }]\n",
    "    }\n",
    "]\n",
    "\n",
    "# Export config file\n",
    "with open(CONFIG_FILE_PATH / \"config_lithium.yaml\", 'w') as yaml_file:\n",
    "    yaml.dump(config_file_lithium, yaml_file, default_flow_style=False)"
   ]
  },
  {
   "cell_type": "code",
   "execution_count": 5,
   "id": "a5309f43",
   "metadata": {},
   "outputs": [
    {
     "name": "stdout",
     "output_type": "stream",
     "text": [
      "premise v.(2, 2, 5)\n",
      "+------------------------------------------------------------------+\n",
      "| Warning                                                          |\n",
      "+------------------------------------------------------------------+\n",
      "| Because some of the scenarios can yield LCI databases            |\n",
      "| containing net negative emission technologies (NET),             |\n",
      "| it is advised to account for biogenic CO2 flows when calculating |\n",
      "| Global Warming potential indicators.                             |\n",
      "| `premise_gwp` provides characterization factors for such flows.  |\n",
      "| It also provides factors for hydrogen emissions to air.          |\n",
      "|                                                                  |\n",
      "| Within your bw2 project:                                         |\n",
      "| from premise_gwp import add_premise_gwp                          |\n",
      "| add_premise_gwp()                                                |\n",
      "+------------------------------------------------------------------+\n",
      "+--------------------------------+----------------------------------+\n",
      "| Utils functions                | Description                      |\n",
      "+--------------------------------+----------------------------------+\n",
      "| clear_cache()                  | Clears the cache folder. Useful  |\n",
      "|                                | when updating `premise`or        |\n",
      "|                                | encountering issues with         |\n",
      "|                                | inventories.                     |\n",
      "+--------------------------------+----------------------------------+\n",
      "| get_regions_definition(model)  | Retrieves the list of countries  |\n",
      "|                                | for each region of the model.    |\n",
      "+--------------------------------+----------------------------------+\n",
      "| ndb.NewDatabase(...)           | Generates a summary of the most  |\n",
      "| ndb.generate_scenario_report() | important scenarios' variables.  |\n",
      "+--------------------------------+----------------------------------+\n",
      "Keep uncertainty data?\n",
      "NewDatabase(..., keep_source_db_uncertainty=True), keep_imports_uncertainty=True)\n",
      "\n",
      "Hide these messages?\n",
      "NewDatabase(..., quiet=True)\n",
      "- Extracting source database\n",
      "- Extracting inventories\n",
      "- Fetching IAM data\n",
      "Done!\n"
     ]
    },
    {
     "name": "stderr",
     "output_type": "stream",
     "text": [
      "Processing scenarios for sector 'external':   0%| | 0/10 [00:00<?, ?it"
     ]
    },
    {
     "name": "stdout",
     "output_type": "stream",
     "text": [
      "Extracted 1 worksheets in 0.26 seconds\n"
     ]
    },
    {
     "name": "stderr",
     "output_type": "stream",
     "text": [
      "Processing scenarios for sector 'external':  10%| | 1/10 [00:20<03:00,"
     ]
    },
    {
     "name": "stdout",
     "output_type": "stream",
     "text": [
      "Extracted 1 worksheets in 0.24 seconds\n"
     ]
    },
    {
     "name": "stderr",
     "output_type": "stream",
     "text": [
      "Processing scenarios for sector 'external':  20%|▏| 2/10 [00:39<02:35,"
     ]
    },
    {
     "name": "stdout",
     "output_type": "stream",
     "text": [
      "Extracted 1 worksheets in 0.26 seconds\n"
     ]
    },
    {
     "name": "stderr",
     "output_type": "stream",
     "text": [
      "Processing scenarios for sector 'external':  30%|▎| 3/10 [01:01<02:25,"
     ]
    },
    {
     "name": "stdout",
     "output_type": "stream",
     "text": [
      "Extracted 1 worksheets in 0.24 seconds\n"
     ]
    },
    {
     "name": "stderr",
     "output_type": "stream",
     "text": [
      "Processing scenarios for sector 'external':  40%|▍| 4/10 [01:21<02:02,"
     ]
    },
    {
     "name": "stdout",
     "output_type": "stream",
     "text": [
      "Extracted 1 worksheets in 0.23 seconds\n",
      "No suppliers found for market for lithium carbonate, from brine, S&P forecasts, other projects in DE. No market created. This may cause linking issue.\n",
      "No suppliers found for market for lithium carbonate, from brine, S&P forecasts in DE. No market created. This may cause linking issue.\n"
     ]
    },
    {
     "name": "stderr",
     "output_type": "stream",
     "text": [
      "Processing scenarios for sector 'external':  50%|▌| 5/10 [01:40<01:40,"
     ]
    },
    {
     "name": "stdout",
     "output_type": "stream",
     "text": [
      "Extracted 1 worksheets in 0.25 seconds\n"
     ]
    },
    {
     "name": "stderr",
     "output_type": "stream",
     "text": [
      "Processing scenarios for sector 'external':  60%|▌| 6/10 [02:01<01:20,"
     ]
    },
    {
     "name": "stdout",
     "output_type": "stream",
     "text": [
      "Extracted 1 worksheets in 0.24 seconds\n"
     ]
    },
    {
     "name": "stderr",
     "output_type": "stream",
     "text": [
      "Processing scenarios for sector 'external':  70%|▋| 7/10 [02:22<01:01,"
     ]
    },
    {
     "name": "stdout",
     "output_type": "stream",
     "text": [
      "Extracted 1 worksheets in 0.23 seconds\n",
      "No suppliers found for market for lithium carbonate, from brine, S&P forecasts, other projects in DE. No market created. This may cause linking issue.\n",
      "No suppliers found for market for lithium carbonate, from brine, S&P forecasts in DE. No market created. This may cause linking issue.\n"
     ]
    },
    {
     "name": "stderr",
     "output_type": "stream",
     "text": [
      "Processing scenarios for sector 'external':  80%|▊| 8/10 [02:42<00:40,"
     ]
    },
    {
     "name": "stdout",
     "output_type": "stream",
     "text": [
      "Extracted 1 worksheets in 0.23 seconds\n"
     ]
    },
    {
     "name": "stderr",
     "output_type": "stream",
     "text": [
      "Processing scenarios for sector 'external':  90%|▉| 9/10 [03:04<00:20,"
     ]
    },
    {
     "name": "stdout",
     "output_type": "stream",
     "text": [
      "Extracted 1 worksheets in 0.25 seconds\n"
     ]
    },
    {
     "name": "stderr",
     "output_type": "stream",
     "text": [
      "Processing scenarios for sector 'external': 100%|█| 10/10 [03:25<00:00"
     ]
    },
    {
     "name": "stdout",
     "output_type": "stream",
     "text": [
      "Done!\n",
      "\n"
     ]
    },
    {
     "name": "stderr",
     "output_type": "stream",
     "text": [
      "\n"
     ]
    }
   ],
   "source": [
    "# Create lithium production LCIs with premise\n",
    "\n",
    "dp_lithium = Package(\"../datapackage_lithium.json\") # read the data package\n",
    "scenarios = [\n",
    "    # S&P-Baseline \n",
    "    {\"model\": \"remind\", \"pathway\": \"SSP2-NDC\", \"year\": 2020, \"external scenarios\": [{\"scenario\": \"S&P-Baseline\", \"data\": dp_lithium}]},\n",
    "    {\"model\": \"remind\", \"pathway\": \"SSP2-NDC\", \"year\": 2025, \"external scenarios\": [{\"scenario\": \"S&P-Baseline\", \"data\": dp_lithium}]},\n",
    "    {\"model\": \"remind\", \"pathway\": \"SSP2-NDC\", \"year\": 2030, \"external scenarios\": [{\"scenario\": \"S&P-Baseline\", \"data\": dp_lithium}]},\n",
    "    {\"model\": \"remind\", \"pathway\": \"SSP2-NDC\", \"year\": 2035, \"external scenarios\": [{\"scenario\": \"S&P-Baseline\", \"data\": dp_lithium}]},\n",
    "\n",
    "    # S&P-Ambitious \n",
    "    {\"model\": \"remind\", \"pathway\": \"SSP2-NDC\", \"year\": 2025, \"external scenarios\": [{\"scenario\": \"S&P-Ambitious\", \"data\": dp_lithium}]},\n",
    "    {\"model\": \"remind\", \"pathway\": \"SSP2-NDC\", \"year\": 2030, \"external scenarios\": [{\"scenario\": \"S&P-Ambitious\", \"data\": dp_lithium}]},\n",
    "    {\"model\": \"remind\", \"pathway\": \"SSP2-NDC\", \"year\": 2035, \"external scenarios\": [{\"scenario\": \"S&P-Ambitious\", \"data\": dp_lithium}]},\n",
    "\n",
    "    # S&P-Very Ambitious\n",
    "    {\"model\": \"remind\", \"pathway\": \"SSP2-NDC\", \"year\": 2025, \"external scenarios\": [{\"scenario\": \"S&P-Very Ambitious\", \"data\": dp_lithium}]},\n",
    "    {\"model\": \"remind\", \"pathway\": \"SSP2-NDC\", \"year\": 2030, \"external scenarios\": [{\"scenario\": \"S&P-Very Ambitious\", \"data\": dp_lithium}]},\n",
    "    {\"model\": \"remind\", \"pathway\": \"SSP2-NDC\", \"year\": 2035, \"external scenarios\": [{\"scenario\": \"S&P-Very Ambitious\", \"data\": dp_lithium}]}\n",
    "    ]\n",
    "\n",
    "ndb = NewDatabase(\n",
    "        scenarios=scenarios,\n",
    "        source_db=\"ecoinvent-3.10-cutoff\",\n",
    "        source_version=\"3.10\",\n",
    "        key=PREMISE_KEY,\n",
    "        use_absolute_efficiency=True,\n",
    "        biosphere_name=\"ecoinvent-3.10-biosphere\"\n",
    "    )\n",
    "\n",
    "# Update only external scenarios\n",
    "ndb.update(\"external\")"
   ]
  },
  {
   "cell_type": "code",
   "execution_count": 6,
   "id": "286f57ea",
   "metadata": {},
   "outputs": [
    {
     "name": "stdout",
     "output_type": "stream",
     "text": [
      "Getting activity data\n"
     ]
    },
    {
     "name": "stderr",
     "output_type": "stream",
     "text": [
      "100%|██████████| 505/505 [00:00<00:00, 168332.16it/s]\n"
     ]
    },
    {
     "name": "stdout",
     "output_type": "stream",
     "text": [
      "Adding exchange data to activities\n"
     ]
    },
    {
     "name": "stderr",
     "output_type": "stream",
     "text": [
      "100%|██████████| 2611/2611 [00:00<00:00, 17344.08it/s]\n"
     ]
    },
    {
     "name": "stdout",
     "output_type": "stream",
     "text": [
      "Filling out exchange data\n"
     ]
    },
    {
     "name": "stderr",
     "output_type": "stream",
     "text": [
      "100%|██████████| 505/505 [00:00<00:00, 12461.16it/s]\n"
     ]
    }
   ],
   "source": [
    "# Import lithium projects LCI datasets into wurst format\n",
    "try:\n",
    "  len(li_projects_lcis)\n",
    "except NameError:\n",
    "  li_projects_lcis = wurst.extract_brightway2_databases(LI_PROJECTS_DB)"
   ]
  },
  {
   "cell_type": "code",
   "execution_count": 7,
   "id": "dd712553",
   "metadata": {},
   "outputs": [],
   "source": [
    "# Extract lithium scenario databases\n",
    "lithium_scenario_dbs = {}\n",
    "for s, scenario in enumerate(ndb.scenarios):\n",
    "    \n",
    "    sc_name = ndb.scenarios[s][\"external scenarios\"][0][\"scenario\"]\n",
    "    db_id = (sc_name, ndb.scenarios[s][\"year\"])\n",
    "    \n",
    "    scenario_db = load_database(scenario)\n",
    "    market_ds = [ds for ds in ndb.scenarios[s]['database'] if ds[\"name\"] in [LI2CO3_MARKET_ALL, LI2CO3_MARKET_OTHER]]\n",
    "    lithium_scenario_dbs[db_id] = market_ds + li_projects_lcis\n",
    "\n",
    "    for ds in lithium_scenario_dbs[db_id]:\n",
    "        if \"categories\" in ds:\n",
    "            ds.pop(\"categories\")"
   ]
  },
  {
   "cell_type": "code",
   "execution_count": 8,
   "id": "e0d812f2",
   "metadata": {},
   "outputs": [
    {
     "name": "stdout",
     "output_type": "stream",
     "text": [
      "Importing datasets for database: ei_cutoff_3.10_remind_SSP2-NDC_2020_STEPS 2025-01-27\n",
      "Importing datasets for database: ei_cutoff_3.10_remind_SSP2-PkBudg1150_2030_APS 2025-01-27\n",
      "Importing datasets for database: ei_cutoff_3.10_remind_SSP2-PkBudg1150_2025_APS 2025-01-27\n",
      "Importing datasets for database: ei_cutoff_3.10_remind_SSP2-PkBudg1150_2035_APS 2025-01-27\n",
      "Importing datasets for database: ei_cutoff_3.10_remind_SSP2-NDC_2035_STEPS 2025-01-27\n",
      "Importing datasets for database: ei_cutoff_3.10_remind_SSP2-NDC_2030_STEPS 2025-01-27\n",
      "Importing datasets for database: ei_cutoff_3.10_remind_SSP2-NDC_2025_STEPS 2025-01-27\n"
     ]
    }
   ],
   "source": [
    "# List of background databases\n",
    "back_db_list = [db for db in bw.databases if \"ei_cutoff_3.10_remind_SSP2\" in db]\n",
    "\n",
    "# Get datasets info in background databases\n",
    "back_ds_info = {}\n",
    "for db in back_db_list:\n",
    "    print(\"Importing datasets for database:\", db)\n",
    "    back_ds_info[db] = {\n",
    "        (ds[\"name\"], ds[\"reference product\"], ds[\"location\"]): ds.key for ds in bw.Database(db)\n",
    "    }"
   ]
  },
  {
   "cell_type": "code",
   "execution_count": 9,
   "id": "4e1b9828",
   "metadata": {},
   "outputs": [
    {
     "name": "stdout",
     "output_type": "stream",
     "text": [
      "Update lithium scenario: ('S&P-Baseline', 2020)\n",
      "Background database: ei_cutoff_3.10_remind_SSP2-NDC_2020_STEPS 2025-01-27\n",
      "#########################\n",
      "Update lithium scenario: ('S&P-Baseline', 2025)\n",
      "Background database: ei_cutoff_3.10_remind_SSP2-PkBudg1150_2025_APS 2025-01-27\n",
      "Background database: ei_cutoff_3.10_remind_SSP2-NDC_2025_STEPS 2025-01-27\n",
      "#########################\n",
      "Update lithium scenario: ('S&P-Baseline', 2030)\n",
      "Background database: ei_cutoff_3.10_remind_SSP2-PkBudg1150_2030_APS 2025-01-27\n",
      "Background database: ei_cutoff_3.10_remind_SSP2-NDC_2030_STEPS 2025-01-27\n",
      "#########################\n",
      "Update lithium scenario: ('S&P-Baseline', 2035)\n",
      "Background database: ei_cutoff_3.10_remind_SSP2-PkBudg1150_2035_APS 2025-01-27\n",
      "Background database: ei_cutoff_3.10_remind_SSP2-NDC_2035_STEPS 2025-01-27\n",
      "#########################\n",
      "Update lithium scenario: ('S&P-Ambitious', 2025)\n",
      "Background database: ei_cutoff_3.10_remind_SSP2-PkBudg1150_2025_APS 2025-01-27\n",
      "Background database: ei_cutoff_3.10_remind_SSP2-NDC_2025_STEPS 2025-01-27\n",
      "#########################\n",
      "Update lithium scenario: ('S&P-Ambitious', 2030)\n",
      "Background database: ei_cutoff_3.10_remind_SSP2-PkBudg1150_2030_APS 2025-01-27\n",
      "Background database: ei_cutoff_3.10_remind_SSP2-NDC_2030_STEPS 2025-01-27\n",
      "#########################\n",
      "Update lithium scenario: ('S&P-Ambitious', 2035)\n",
      "Background database: ei_cutoff_3.10_remind_SSP2-PkBudg1150_2035_APS 2025-01-27\n",
      "Background database: ei_cutoff_3.10_remind_SSP2-NDC_2035_STEPS 2025-01-27\n",
      "#########################\n",
      "Update lithium scenario: ('S&P-Very Ambitious', 2025)\n",
      "Background database: ei_cutoff_3.10_remind_SSP2-PkBudg1150_2025_APS 2025-01-27\n",
      "Background database: ei_cutoff_3.10_remind_SSP2-NDC_2025_STEPS 2025-01-27\n",
      "#########################\n",
      "Update lithium scenario: ('S&P-Very Ambitious', 2030)\n",
      "Background database: ei_cutoff_3.10_remind_SSP2-PkBudg1150_2030_APS 2025-01-27\n",
      "Background database: ei_cutoff_3.10_remind_SSP2-NDC_2030_STEPS 2025-01-27\n",
      "#########################\n",
      "Update lithium scenario: ('S&P-Very Ambitious', 2035)\n",
      "Background database: ei_cutoff_3.10_remind_SSP2-PkBudg1150_2035_APS 2025-01-27\n",
      "Background database: ei_cutoff_3.10_remind_SSP2-NDC_2035_STEPS 2025-01-27\n",
      "#########################\n"
     ]
    }
   ],
   "source": [
    "# Link lithium databases to background databases\n",
    "technosphere = lambda x: x[\"type\"] == \"technosphere\"\n",
    "lithium_background_dbs = {}\n",
    "\n",
    "for i in lithium_scenario_dbs:                   # Iterate over all litihum databases\n",
    "    print(\"Update lithium scenario:\", i)\n",
    "\n",
    "    lithium_scenario = i[0]                      # Lithium scenario name\n",
    "    year = str(i[1])                             # Year of assessment\n",
    "    \n",
    "    for back_db in back_db_list:                # Iterate over all background databases\n",
    "        parts = back_db.split(' ')\n",
    "        back_db_name = ' '.join(parts[0].split('_')[3:-1]) + ' ' + ' '.join(parts[1:-1])\n",
    "        back_db_name = back_db_name.strip()\n",
    "        \n",
    "        # Proceed only if year matches for litihum and background databases\n",
    "        if year in back_db_name:\n",
    "            print(\"Background database:\", back_db)\n",
    "\n",
    "            li_db = copy.deepcopy(lithium_scenario_dbs[i])                          # Copy the lithium database\n",
    "            lithium_db_name = \"lithium_\" + lithium_scenario + \"_\" + back_db_name    # Give a name to the lithium database according to the background\n",
    "\n",
    "            # Update datasets input code to \n",
    "            for ds in li_db:\n",
    "                for exc in filter(technosphere, ds[\"exchanges\"]):\n",
    "                    exc_data = (exc[\"name\"], exc[\"product\"], exc[\"location\"])\n",
    "\n",
    "                    if exc_data in back_ds_info[back_db]:\n",
    "                        ds_code = back_ds_info[back_db][exc_data]\n",
    "                        exc.update({'input': (ds_code[0], ds_code[1])})\n",
    "\n",
    "            lithium_background_dbs[lithium_db_name] = li_db\n",
    "\n",
    "    print(\"#########################\")"
   ]
  },
  {
   "cell_type": "code",
   "execution_count": 10,
   "id": "7d75a72f",
   "metadata": {},
   "outputs": [],
   "source": [
    "# Link lithium datasets to regionalized water flows\n",
    "for i in lithium_background_dbs:\n",
    "    for ds in lithium_background_dbs[i]:\n",
    "        project_name = ds[\"name\"].rsplit('_', 1)[-1]\n",
    "        relink_to_regionalized_water(water_flows_regionalized, ds, location=project_name)"
   ]
  },
  {
   "cell_type": "code",
   "execution_count": 11,
   "id": "d20f19d9",
   "metadata": {},
   "outputs": [
    {
     "name": "stdout",
     "output_type": "stream",
     "text": [
      "Writing database: lithium_S&P-Baseline_remind SSP2-NDC 2020\n",
      "Vacuuming database \n",
      "514 datasets\n",
      "2636 exchanges\n",
      "0 unlinked exchanges\n",
      "  \n"
     ]
    },
    {
     "name": "stderr",
     "output_type": "stream",
     "text": [
      "Writing activities to SQLite3 database:\n",
      "0% [##############################] 100% | ETA: 00:00:00\n",
      "Total time elapsed: 00:00:00\n"
     ]
    },
    {
     "name": "stdout",
     "output_type": "stream",
     "text": [
      "Title: Writing activities to SQLite3 database:\n",
      "  Started: 04/05/2025 23:58:45\n",
      "  Finished: 04/05/2025 23:58:45\n",
      "  Total time elapsed: 00:00:00\n",
      "  CPU %: 83.10\n",
      "  Memory %: 34.17\n",
      "Created database: lithium_S&P-Baseline_remind SSP2-NDC 2020\n",
      "==========================\n",
      "Writing database: lithium_S&P-Baseline_remind SSP2-PkBudg1150 2025\n",
      "Vacuuming database \n",
      "514 datasets\n",
      "2642 exchanges\n",
      "0 unlinked exchanges\n",
      "  \n"
     ]
    },
    {
     "name": "stderr",
     "output_type": "stream",
     "text": [
      "Writing activities to SQLite3 database:\n",
      "0% [##############################] 100% | ETA: 00:00:00\n",
      "Total time elapsed: 00:00:00\n"
     ]
    },
    {
     "name": "stdout",
     "output_type": "stream",
     "text": [
      "Title: Writing activities to SQLite3 database:\n",
      "  Started: 04/06/2025 00:02:34\n",
      "  Finished: 04/06/2025 00:02:34\n",
      "  Total time elapsed: 00:00:00\n",
      "  CPU %: 99.70\n",
      "  Memory %: 26.81\n",
      "Created database: lithium_S&P-Baseline_remind SSP2-PkBudg1150 2025\n",
      "==========================\n",
      "Writing database: lithium_S&P-Baseline_remind SSP2-NDC 2025\n",
      "Vacuuming database \n",
      "514 datasets\n",
      "2642 exchanges\n",
      "0 unlinked exchanges\n",
      "  \n"
     ]
    },
    {
     "name": "stderr",
     "output_type": "stream",
     "text": [
      "Writing activities to SQLite3 database:\n",
      "0% [##############################] 100% | ETA: 00:00:00\n",
      "Total time elapsed: 00:00:00\n"
     ]
    },
    {
     "name": "stdout",
     "output_type": "stream",
     "text": [
      "Title: Writing activities to SQLite3 database:\n",
      "  Started: 04/06/2025 00:06:30\n",
      "  Finished: 04/06/2025 00:06:30\n",
      "  Total time elapsed: 00:00:00\n",
      "  CPU %: 122.80\n",
      "  Memory %: 16.52\n",
      "Created database: lithium_S&P-Baseline_remind SSP2-NDC 2025\n",
      "==========================\n",
      "Writing database: lithium_S&P-Baseline_remind SSP2-PkBudg1150 2030\n",
      "Vacuuming database \n",
      "514 datasets\n",
      "2642 exchanges\n",
      "0 unlinked exchanges\n",
      "  \n"
     ]
    },
    {
     "name": "stderr",
     "output_type": "stream",
     "text": [
      "Writing activities to SQLite3 database:\n",
      "0% [##############################] 100% | ETA: 00:00:00\n",
      "Total time elapsed: 00:00:00\n"
     ]
    },
    {
     "name": "stdout",
     "output_type": "stream",
     "text": [
      "Title: Writing activities to SQLite3 database:\n",
      "  Started: 04/06/2025 00:10:21\n",
      "  Finished: 04/06/2025 00:10:21\n",
      "  Total time elapsed: 00:00:00\n",
      "  CPU %: 84.90\n",
      "  Memory %: 8.75\n",
      "Created database: lithium_S&P-Baseline_remind SSP2-PkBudg1150 2030\n",
      "==========================\n",
      "Writing database: lithium_S&P-Baseline_remind SSP2-NDC 2030\n",
      "Vacuuming database \n",
      "514 datasets\n",
      "2642 exchanges\n",
      "0 unlinked exchanges\n",
      "  \n"
     ]
    },
    {
     "name": "stderr",
     "output_type": "stream",
     "text": [
      "Writing activities to SQLite3 database:\n",
      "0% [##############################] 100% | ETA: 00:00:00\n",
      "Total time elapsed: 00:00:00\n"
     ]
    },
    {
     "name": "stdout",
     "output_type": "stream",
     "text": [
      "Title: Writing activities to SQLite3 database:\n",
      "  Started: 04/06/2025 00:14:06\n",
      "  Finished: 04/06/2025 00:14:06\n",
      "  Total time elapsed: 00:00:00\n",
      "  CPU %: 100.40\n",
      "  Memory %: 6.87\n",
      "Created database: lithium_S&P-Baseline_remind SSP2-NDC 2030\n",
      "==========================\n",
      "Writing database: lithium_S&P-Baseline_remind SSP2-PkBudg1150 2035\n",
      "Vacuuming database \n",
      "514 datasets\n",
      "2642 exchanges\n",
      "0 unlinked exchanges\n",
      "  \n"
     ]
    },
    {
     "name": "stderr",
     "output_type": "stream",
     "text": [
      "Writing activities to SQLite3 database:\n",
      "0% [##############################] 100% | ETA: 00:00:00\n",
      "Total time elapsed: 00:00:00\n"
     ]
    },
    {
     "name": "stdout",
     "output_type": "stream",
     "text": [
      "Title: Writing activities to SQLite3 database:\n",
      "  Started: 04/06/2025 00:17:45\n",
      "  Finished: 04/06/2025 00:17:45\n",
      "  Total time elapsed: 00:00:00\n",
      "  CPU %: 133.00\n",
      "  Memory %: 6.21\n",
      "Created database: lithium_S&P-Baseline_remind SSP2-PkBudg1150 2035\n",
      "==========================\n",
      "Writing database: lithium_S&P-Baseline_remind SSP2-NDC 2035\n",
      "Vacuuming database \n",
      "514 datasets\n",
      "2642 exchanges\n",
      "0 unlinked exchanges\n",
      "  \n"
     ]
    },
    {
     "name": "stderr",
     "output_type": "stream",
     "text": [
      "Writing activities to SQLite3 database:\n",
      "0% [##############################] 100% | ETA: 00:00:00\n",
      "Total time elapsed: 00:00:00\n"
     ]
    },
    {
     "name": "stdout",
     "output_type": "stream",
     "text": [
      "Title: Writing activities to SQLite3 database:\n",
      "  Started: 04/06/2025 00:21:36\n",
      "  Finished: 04/06/2025 00:21:36\n",
      "  Total time elapsed: 00:00:00\n",
      "  CPU %: 110.80\n",
      "  Memory %: 5.71\n",
      "Created database: lithium_S&P-Baseline_remind SSP2-NDC 2035\n",
      "==========================\n",
      "Writing database: lithium_S&P-Ambitious_remind SSP2-PkBudg1150 2025\n",
      "Vacuuming database \n",
      "516 datasets\n",
      "2659 exchanges\n",
      "0 unlinked exchanges\n",
      "  \n"
     ]
    },
    {
     "name": "stderr",
     "output_type": "stream",
     "text": [
      "Writing activities to SQLite3 database:\n",
      "0% [##############################] 100% | ETA: 00:00:00\n",
      "Total time elapsed: 00:00:00\n"
     ]
    },
    {
     "name": "stdout",
     "output_type": "stream",
     "text": [
      "Title: Writing activities to SQLite3 database:\n",
      "  Started: 04/06/2025 00:25:19\n",
      "  Finished: 04/06/2025 00:25:19\n",
      "  Total time elapsed: 00:00:00\n",
      "  CPU %: 92.40\n",
      "  Memory %: 5.72\n",
      "Created database: lithium_S&P-Ambitious_remind SSP2-PkBudg1150 2025\n",
      "==========================\n",
      "Writing database: lithium_S&P-Ambitious_remind SSP2-NDC 2025\n",
      "Vacuuming database \n",
      "516 datasets\n",
      "2659 exchanges\n",
      "0 unlinked exchanges\n",
      "  \n"
     ]
    },
    {
     "name": "stderr",
     "output_type": "stream",
     "text": [
      "Writing activities to SQLite3 database:\n",
      "0% [##############################] 100% | ETA: 00:00:00\n",
      "Total time elapsed: 00:00:00\n"
     ]
    },
    {
     "name": "stdout",
     "output_type": "stream",
     "text": [
      "Title: Writing activities to SQLite3 database:\n",
      "  Started: 04/06/2025 00:28:55\n",
      "  Finished: 04/06/2025 00:28:55\n",
      "  Total time elapsed: 00:00:00\n",
      "  CPU %: 72.70\n",
      "  Memory %: 5.73\n",
      "Created database: lithium_S&P-Ambitious_remind SSP2-NDC 2025\n",
      "==========================\n",
      "Writing database: lithium_S&P-Ambitious_remind SSP2-PkBudg1150 2030\n",
      "Vacuuming database \n",
      "518 datasets\n",
      "2670 exchanges\n",
      "0 unlinked exchanges\n",
      "  \n"
     ]
    },
    {
     "name": "stderr",
     "output_type": "stream",
     "text": [
      "Writing activities to SQLite3 database:\n",
      "0% [##############################] 100% | ETA: 00:00:00\n",
      "Total time elapsed: 00:00:00\n"
     ]
    },
    {
     "name": "stdout",
     "output_type": "stream",
     "text": [
      "Title: Writing activities to SQLite3 database:\n",
      "  Started: 04/06/2025 00:32:30\n",
      "  Finished: 04/06/2025 00:32:30\n",
      "  Total time elapsed: 00:00:00\n",
      "  CPU %: 100.20\n",
      "  Memory %: 5.74\n",
      "Created database: lithium_S&P-Ambitious_remind SSP2-PkBudg1150 2030\n",
      "==========================\n",
      "Writing database: lithium_S&P-Ambitious_remind SSP2-NDC 2030\n",
      "Vacuuming database \n",
      "518 datasets\n",
      "2670 exchanges\n",
      "0 unlinked exchanges\n",
      "  \n"
     ]
    },
    {
     "name": "stderr",
     "output_type": "stream",
     "text": [
      "Writing activities to SQLite3 database:\n",
      "0% [##############################] 100% | ETA: 00:00:00\n",
      "Total time elapsed: 00:00:00\n"
     ]
    },
    {
     "name": "stdout",
     "output_type": "stream",
     "text": [
      "Title: Writing activities to SQLite3 database:\n",
      "  Started: 04/06/2025 00:35:54\n",
      "  Finished: 04/06/2025 00:35:54\n",
      "  Total time elapsed: 00:00:00\n",
      "  CPU %: 100.40\n",
      "  Memory %: 5.75\n",
      "Created database: lithium_S&P-Ambitious_remind SSP2-NDC 2030\n",
      "==========================\n",
      "Writing database: lithium_S&P-Ambitious_remind SSP2-PkBudg1150 2035\n",
      "Vacuuming database \n",
      "518 datasets\n",
      "2670 exchanges\n",
      "0 unlinked exchanges\n",
      "  \n"
     ]
    },
    {
     "name": "stderr",
     "output_type": "stream",
     "text": [
      "Writing activities to SQLite3 database:\n",
      "0% [##############################] 100% | ETA: 00:00:00\n",
      "Total time elapsed: 00:00:00\n"
     ]
    },
    {
     "name": "stdout",
     "output_type": "stream",
     "text": [
      "Title: Writing activities to SQLite3 database:\n",
      "  Started: 04/06/2025 00:39:06\n",
      "  Finished: 04/06/2025 00:39:06\n",
      "  Total time elapsed: 00:00:00\n",
      "  CPU %: 90.80\n",
      "  Memory %: 5.76\n",
      "Created database: lithium_S&P-Ambitious_remind SSP2-PkBudg1150 2035\n",
      "==========================\n",
      "Writing database: lithium_S&P-Ambitious_remind SSP2-NDC 2035\n",
      "Vacuuming database \n",
      "518 datasets\n",
      "2670 exchanges\n",
      "0 unlinked exchanges\n",
      "  \n"
     ]
    },
    {
     "name": "stderr",
     "output_type": "stream",
     "text": [
      "Writing activities to SQLite3 database:\n",
      "0% [##############################] 100% | ETA: 00:00:00\n",
      "Total time elapsed: 00:00:00\n"
     ]
    },
    {
     "name": "stdout",
     "output_type": "stream",
     "text": [
      "Title: Writing activities to SQLite3 database:\n",
      "  Started: 04/06/2025 00:42:38\n",
      "  Finished: 04/06/2025 00:42:38\n",
      "  Total time elapsed: 00:00:00\n",
      "  CPU %: 80.10\n",
      "  Memory %: 5.77\n",
      "Created database: lithium_S&P-Ambitious_remind SSP2-NDC 2035\n",
      "==========================\n",
      "Writing database: lithium_S&P-Very Ambitious_remind SSP2-PkBudg1150 2025\n",
      "Vacuuming database \n",
      "516 datasets\n",
      "2661 exchanges\n",
      "0 unlinked exchanges\n",
      "  \n"
     ]
    },
    {
     "name": "stderr",
     "output_type": "stream",
     "text": [
      "Writing activities to SQLite3 database:\n",
      "0% [##############################] 100% | ETA: 00:00:00\n",
      "Total time elapsed: 00:00:00\n"
     ]
    },
    {
     "name": "stdout",
     "output_type": "stream",
     "text": [
      "Title: Writing activities to SQLite3 database:\n",
      "  Started: 04/06/2025 00:46:31\n",
      "  Finished: 04/06/2025 00:46:31\n",
      "  Total time elapsed: 00:00:00\n",
      "  CPU %: 100.20\n",
      "  Memory %: 5.78\n",
      "Created database: lithium_S&P-Very Ambitious_remind SSP2-PkBudg1150 2025\n",
      "==========================\n",
      "Writing database: lithium_S&P-Very Ambitious_remind SSP2-NDC 2025\n",
      "Vacuuming database \n",
      "516 datasets\n",
      "2661 exchanges\n",
      "0 unlinked exchanges\n",
      "  \n"
     ]
    },
    {
     "name": "stderr",
     "output_type": "stream",
     "text": [
      "Writing activities to SQLite3 database:\n",
      "0% [##############################] 100% | ETA: 00:00:00\n",
      "Total time elapsed: 00:00:00\n"
     ]
    },
    {
     "name": "stdout",
     "output_type": "stream",
     "text": [
      "Title: Writing activities to SQLite3 database:\n",
      "  Started: 04/06/2025 00:50:13\n",
      "  Finished: 04/06/2025 00:50:13\n",
      "  Total time elapsed: 00:00:00\n",
      "  CPU %: 110.80\n",
      "  Memory %: 5.79\n",
      "Created database: lithium_S&P-Very Ambitious_remind SSP2-NDC 2025\n",
      "==========================\n",
      "Writing database: lithium_S&P-Very Ambitious_remind SSP2-PkBudg1150 2030\n",
      "Vacuuming database \n",
      "518 datasets\n",
      "2681 exchanges\n",
      "0 unlinked exchanges\n",
      "  \n"
     ]
    },
    {
     "name": "stderr",
     "output_type": "stream",
     "text": [
      "Writing activities to SQLite3 database:\n",
      "0% [##############################] 100% | ETA: 00:00:00\n",
      "Total time elapsed: 00:00:00\n"
     ]
    },
    {
     "name": "stdout",
     "output_type": "stream",
     "text": [
      "Title: Writing activities to SQLite3 database:\n",
      "  Started: 04/06/2025 00:54:07\n",
      "  Finished: 04/06/2025 00:54:07\n",
      "  Total time elapsed: 00:00:00\n",
      "  CPU %: 100.20\n",
      "  Memory %: 5.81\n",
      "Created database: lithium_S&P-Very Ambitious_remind SSP2-PkBudg1150 2030\n",
      "==========================\n",
      "Writing database: lithium_S&P-Very Ambitious_remind SSP2-NDC 2030\n",
      "Vacuuming database \n",
      "518 datasets\n",
      "2681 exchanges\n",
      "0 unlinked exchanges\n",
      "  \n"
     ]
    },
    {
     "name": "stderr",
     "output_type": "stream",
     "text": [
      "Writing activities to SQLite3 database:\n",
      "0% [##############################] 100% | ETA: 00:00:00\n",
      "Total time elapsed: 00:00:00\n"
     ]
    },
    {
     "name": "stdout",
     "output_type": "stream",
     "text": [
      "Title: Writing activities to SQLite3 database:\n",
      "  Started: 04/06/2025 00:57:45\n",
      "  Finished: 04/06/2025 00:57:45\n",
      "  Total time elapsed: 00:00:00\n",
      "  CPU %: 100.30\n",
      "  Memory %: 5.81\n",
      "Created database: lithium_S&P-Very Ambitious_remind SSP2-NDC 2030\n",
      "==========================\n",
      "Writing database: lithium_S&P-Very Ambitious_remind SSP2-PkBudg1150 2035\n",
      "Vacuuming database \n",
      "518 datasets\n",
      "2681 exchanges\n",
      "0 unlinked exchanges\n",
      "  \n"
     ]
    },
    {
     "name": "stderr",
     "output_type": "stream",
     "text": [
      "Writing activities to SQLite3 database:\n",
      "0% [##############################] 100% | ETA: 00:00:00\n",
      "Total time elapsed: 00:00:00\n"
     ]
    },
    {
     "name": "stdout",
     "output_type": "stream",
     "text": [
      "Title: Writing activities to SQLite3 database:\n",
      "  Started: 04/06/2025 01:01:00\n",
      "  Finished: 04/06/2025 01:01:00\n",
      "  Total time elapsed: 00:00:00\n",
      "  CPU %: 81.80\n",
      "  Memory %: 5.82\n",
      "Created database: lithium_S&P-Very Ambitious_remind SSP2-PkBudg1150 2035\n",
      "==========================\n",
      "Writing database: lithium_S&P-Very Ambitious_remind SSP2-NDC 2035\n",
      "Vacuuming database \n",
      "518 datasets\n",
      "2681 exchanges\n",
      "0 unlinked exchanges\n",
      "  \n"
     ]
    },
    {
     "name": "stderr",
     "output_type": "stream",
     "text": [
      "Writing activities to SQLite3 database:\n",
      "0% [##############################] 100% | ETA: 00:00:00\n",
      "Total time elapsed: 00:00:00\n"
     ]
    },
    {
     "name": "stdout",
     "output_type": "stream",
     "text": [
      "Title: Writing activities to SQLite3 database:\n",
      "  Started: 04/06/2025 01:04:24\n",
      "  Finished: 04/06/2025 01:04:24\n",
      "  Total time elapsed: 00:00:00\n",
      "  CPU %: 100.20\n",
      "  Memory %: 5.83\n",
      "Created database: lithium_S&P-Very Ambitious_remind SSP2-NDC 2035\n",
      "==========================\n"
     ]
    }
   ],
   "source": [
    "for db in lithium_background_dbs:\n",
    "    print(\"Writing database:\", db)\n",
    "    if db in bw.databases:\n",
    "        del bw.databases[db]\n",
    "    wurst.write_brightway2_database(lithium_background_dbs[db], db)\n",
    "    print(\"==========================\")"
   ]
  },
  {
   "cell_type": "code",
   "execution_count": null,
   "id": "8edac736",
   "metadata": {},
   "outputs": [],
   "source": []
  }
 ],
 "metadata": {
  "kernelspec": {
   "display_name": "lca_prosp",
   "language": "python",
   "name": "python3"
  },
  "language_info": {
   "codemirror_mode": {
    "name": "ipython",
    "version": 3
   },
   "file_extension": ".py",
   "mimetype": "text/x-python",
   "name": "python",
   "nbconvert_exporter": "python",
   "pygments_lexer": "ipython3",
   "version": "3.11.8"
  }
 },
 "nbformat": 4,
 "nbformat_minor": 5
}
