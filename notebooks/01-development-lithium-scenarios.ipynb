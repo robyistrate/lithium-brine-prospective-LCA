{
 "cells": [
  {
   "cell_type": "markdown",
   "metadata": {},
   "source": [
    "# Create lithium supply scenarios using *minerals_supply_scenarios*\n",
    "\n",
    "This notebook creates the lithium supply scenarios based on S&P database. The following scenarios are created:\n",
    "- Baseline\n",
    "- Ambitious\n",
    "- Very Ambitious\n",
    "\n",
    "The development of the supply scenarios is facilitated by the *minerals_supply_scenarios* Python library, designed to assist in the development of scenarios for minerals supply based on asset-level data. The tool streamlines the process of importing, processing, and analyzing mining asset data from the S&P Capital IQ Pro database. By default, supply scenarios are created considering the development stage of the mining projects, thus reflecting different levels of production expansion. Scenario data is exported as a scenario data file that is integrated into *premise*.\n",
    "\n",
    "Get the tool from: https://github.com/robyistrate/minerals_supply_scenarios"
   ]
  },
  {
   "cell_type": "code",
   "execution_count": null,
   "metadata": {},
   "outputs": [],
   "source": [
    "# Add minerals_supply_scenarios to path and import\n",
    "import sys\n",
    "import os\n",
    "ROOT_DIR = os.path.abspath(os.path.join(\"../../minerals_supply_scenarios\"))\n",
    "if ROOT_DIR not in sys.path:\n",
    "    sys.path.append(ROOT_DIR)\n",
    "\n",
    "import minerals_supply_scenarios as mss"
   ]
  },
  {
   "cell_type": "code",
   "execution_count": null,
   "metadata": {},
   "outputs": [],
   "source": [
    "import pandas as pd\n",
    "import numpy as np\n",
    "import yaml\n",
    "from pathlib import Path\n",
    "import datetime\n",
    "\n",
    "SCENARIO_DATA_PATH = Path(\"../scenario_data\")\n",
    "RESULTS_PATH = Path(\"../results\")"
   ]
  },
  {
   "cell_type": "markdown",
   "metadata": {},
   "source": [
    "## Create scenario data"
   ]
  },
  {
   "cell_type": "code",
   "execution_count": 2,
   "metadata": {},
   "outputs": [
    {
     "name": "stdout",
     "output_type": "stream",
     "text": [
      "Considering only: {'Deposit Type': ['Brine (Salar)']}\n",
      "Excluding: {'Country': ['Canada'], 'Deposit Type': ['Brine (Salar), Pegmatite Hosted']}\n",
      "****************************************\n",
      "Creating supply scenarios for lithium\n",
      "Importing raw dataset from S&P database...\n",
      "Applying strategy: fill_data_gaps\n",
      "Applying strategy: estimate_future_production\n",
      "Applying strategy: create_scenarios_data\n",
      "Applying strategy: harmonize_production_data\n",
      "Exporting premise scenario data file\n",
      "*****************************\n",
      "Processing report\n",
      "Number projects in updated dataset : 143\n",
      "Number projects with production in updated dataset : Production 2020     8\n",
      "Production 2021     8\n",
      "Production 2022     9\n",
      "Production 2023    12\n",
      "Production 2024    19\n",
      "Production 2025    22\n",
      "Production 2026    24\n",
      "Production 2027    27\n",
      "Production 2028    29\n",
      "Production 2029    29\n",
      "Production 2030    34\n",
      "Production 2031    34\n",
      "Production 2032    34\n",
      "Production 2033    34\n",
      "Production 2034    34\n",
      "Production 2035    34\n",
      "dtype: int64\n",
      "Number projects in scenarios : 34\n",
      "Number projects discarded due to lack of production : 109\n",
      "*******************************Share of all projects with production volume (%) : Production 2020     5.59\n",
      "Production 2021     5.59\n",
      "Production 2022     6.29\n",
      "Production 2023     8.39\n",
      "Production 2024    13.29\n",
      "Production 2025    15.38\n",
      "Production 2026    16.78\n",
      "Production 2027    18.88\n",
      "Production 2028    20.28\n",
      "Production 2029    20.28\n",
      "Production 2030    23.78\n",
      "Production 2031    23.78\n",
      "Production 2032    23.78\n",
      "Production 2033    23.78\n",
      "Production 2034    23.78\n",
      "Production 2035    23.78\n",
      "dtype: float64\n",
      "Raw production volumes (kt/year) : Production 2020      180.86\n",
      "Production 2021     223.589\n",
      "Production 2022     294.684\n",
      "Production 2023     324.311\n",
      "Production 2024     433.224\n",
      "Production 2025     607.523\n",
      "Production 2026     660.505\n",
      "Production 2027     742.815\n",
      "Production 2028     812.535\n",
      "Production 2029     942.807\n",
      "Production 2030    1075.788\n",
      "Production 2031    1159.687\n",
      "Production 2032    1240.905\n",
      "Production 2033    1258.224\n",
      "Production 2034    1265.287\n",
      "Production 2035    1250.697\n",
      "dtype: object\n",
      "*****************************\n"
     ]
    }
   ],
   "source": [
    "SP_DATASET_PATH = SCENARIO_DATA_PATH / \"external\" / \"SPGlobal_Export_12-23-2024_495bfe45-28c9-496d-8925-0e8ecf01c999.xls\"\n",
    "scenario_timeframe = (2020,2035,1)\n",
    "list_of_years = [str(year) for year in range(scenario_timeframe[0], scenario_timeframe[1]+1, scenario_timeframe[2])]\n",
    "\n",
    "lithium_scenarios = mss.MetalSupplyScenarios(\n",
    "    commodity=\"Lithium\",\n",
    "    dataset_path=SP_DATASET_PATH,\n",
    "    timeframe=scenario_timeframe,\n",
    "    specifics={\"Deposit Type\": [\"Brine (Salar)\"]},\n",
    "    exclude={\"Country\": [\"Canada\"], \n",
    "             \"Deposit Type\": [\"Brine (Salar), Pegmatite Hosted\"]},\n",
    "    export_dir=SCENARIO_DATA_PATH / \"external\"\n",
    "    )"
   ]
  },
  {
   "cell_type": "code",
   "execution_count": 3,
   "metadata": {},
   "outputs": [],
   "source": [
    "# Explore discarded projects\n",
    "all_projects = list(set(lithium_scenarios.sp_dataset_updated.index))\n",
    "considered_projects = list(set(lithium_scenarios.scenario_data[\"Project ID\"]))\n",
    "excluded_projects = list(set(all_projects) - set(considered_projects))"
   ]
  },
  {
   "cell_type": "code",
   "execution_count": 4,
   "metadata": {},
   "outputs": [
    {
     "name": "stdout",
     "output_type": "stream",
     "text": [
      "Number of projects discarded: 109\n",
      "% of projects discarded: 76 %\n"
     ]
    }
   ],
   "source": [
    "print(\"Number of projects discarded:\", len(all_projects) - len(considered_projects))\n",
    "print(\"% of projects discarded:\", round(len(excluded_projects) *100 / len(all_projects)), \"%\")"
   ]
  },
  {
   "cell_type": "code",
   "execution_count": 5,
   "metadata": {},
   "outputs": [
    {
     "data": {
      "text/html": [
       "<div>\n",
       "<style scoped>\n",
       "    .dataframe tbody tr th:only-of-type {\n",
       "        vertical-align: middle;\n",
       "    }\n",
       "\n",
       "    .dataframe tbody tr th {\n",
       "        vertical-align: top;\n",
       "    }\n",
       "\n",
       "    .dataframe thead th {\n",
       "        text-align: right;\n",
       "    }\n",
       "</style>\n",
       "<table border=\"1\" class=\"dataframe\">\n",
       "  <thead>\n",
       "    <tr style=\"text-align: right;\">\n",
       "      <th></th>\n",
       "      <th>Development Stage</th>\n",
       "      <th>Number</th>\n",
       "      <th>Share</th>\n",
       "    </tr>\n",
       "  </thead>\n",
       "  <tbody>\n",
       "    <tr>\n",
       "      <th>0</th>\n",
       "      <td>Target Outline</td>\n",
       "      <td>46</td>\n",
       "      <td>42.0</td>\n",
       "    </tr>\n",
       "    <tr>\n",
       "      <th>1</th>\n",
       "      <td>Exploration</td>\n",
       "      <td>29</td>\n",
       "      <td>27.0</td>\n",
       "    </tr>\n",
       "    <tr>\n",
       "      <th>2</th>\n",
       "      <td>Reserves Development</td>\n",
       "      <td>12</td>\n",
       "      <td>11.0</td>\n",
       "    </tr>\n",
       "    <tr>\n",
       "      <th>3</th>\n",
       "      <td>Grassroots</td>\n",
       "      <td>9</td>\n",
       "      <td>8.0</td>\n",
       "    </tr>\n",
       "    <tr>\n",
       "      <th>4</th>\n",
       "      <td>Prefeas/Scoping</td>\n",
       "      <td>7</td>\n",
       "      <td>6.0</td>\n",
       "    </tr>\n",
       "    <tr>\n",
       "      <th>5</th>\n",
       "      <td>Limited Production</td>\n",
       "      <td>2</td>\n",
       "      <td>2.0</td>\n",
       "    </tr>\n",
       "    <tr>\n",
       "      <th>6</th>\n",
       "      <td>Advanced Exploration</td>\n",
       "      <td>1</td>\n",
       "      <td>1.0</td>\n",
       "    </tr>\n",
       "    <tr>\n",
       "      <th>7</th>\n",
       "      <td>Commissioning</td>\n",
       "      <td>1</td>\n",
       "      <td>1.0</td>\n",
       "    </tr>\n",
       "    <tr>\n",
       "      <th>8</th>\n",
       "      <td>Preproduction</td>\n",
       "      <td>1</td>\n",
       "      <td>1.0</td>\n",
       "    </tr>\n",
       "    <tr>\n",
       "      <th>9</th>\n",
       "      <td>Satellite</td>\n",
       "      <td>1</td>\n",
       "      <td>1.0</td>\n",
       "    </tr>\n",
       "  </tbody>\n",
       "</table>\n",
       "</div>"
      ],
      "text/plain": [
       "      Development Stage  Number  Share\n",
       "0        Target Outline      46   42.0\n",
       "1           Exploration      29   27.0\n",
       "2  Reserves Development      12   11.0\n",
       "3            Grassroots       9    8.0\n",
       "4       Prefeas/Scoping       7    6.0\n",
       "5    Limited Production       2    2.0\n",
       "6  Advanced Exploration       1    1.0\n",
       "7         Commissioning       1    1.0\n",
       "8         Preproduction       1    1.0\n",
       "9             Satellite       1    1.0"
      ]
     },
     "execution_count": 5,
     "metadata": {},
     "output_type": "execute_result"
    }
   ],
   "source": [
    "# Calculate % of projects excluded by development stage\n",
    "dev_stage_discarded_projects = lithium_scenarios.sp_dataset_updated.loc[excluded_projects].groupby(\n",
    "    'Development Stage').size().sort_values(ascending=False).round(0).reset_index(name='Number')\n",
    "dev_stage_discarded_projects[\"Share\"] = dev_stage_discarded_projects[\"Number\"].divide(len(excluded_projects)).multiply(100).round(0)\n",
    "\n",
    "dev_stage_discarded_projects"
   ]
  },
  {
   "cell_type": "markdown",
   "metadata": {},
   "source": [
    "## Create \"other projects\" category based on available LCI datasets\n",
    "\n",
    "Projects for which LCI datasets are not available are aggregated under the category \"Others\""
   ]
  },
  {
   "cell_type": "code",
   "execution_count": 6,
   "metadata": {},
   "outputs": [],
   "source": [
    "lithium_scenario_data = lithium_scenarios.premise_scenario_data.copy()"
   ]
  },
  {
   "cell_type": "code",
   "execution_count": 21,
   "metadata": {},
   "outputs": [
    {
     "data": {
      "text/html": [
       "<div>\n",
       "<style scoped>\n",
       "    .dataframe tbody tr th:only-of-type {\n",
       "        vertical-align: middle;\n",
       "    }\n",
       "\n",
       "    .dataframe tbody tr th {\n",
       "        vertical-align: top;\n",
       "    }\n",
       "\n",
       "    .dataframe thead th {\n",
       "        text-align: right;\n",
       "    }\n",
       "</style>\n",
       "<table border=\"1\" class=\"dataframe\">\n",
       "  <thead>\n",
       "    <tr style=\"text-align: right;\">\n",
       "      <th></th>\n",
       "      <th>Project name</th>\n",
       "      <th>Country</th>\n",
       "      <th>Technology</th>\n",
       "      <th>LCI dataset</th>\n",
       "      <th>Relevance for LCI modelling</th>\n",
       "      <th>Li concentration</th>\n",
       "      <th>Other comments</th>\n",
       "    </tr>\n",
       "  </thead>\n",
       "  <tbody>\n",
       "    <tr>\n",
       "      <th>0</th>\n",
       "      <td>Cauchari-Olaroz</td>\n",
       "      <td>AR</td>\n",
       "      <td>Evaporative ponds</td>\n",
       "      <td>df_rotary_dryer_Salar de Cauchari-Olaroz</td>\n",
       "      <td>DONE</td>\n",
       "      <td>0.0005</td>\n",
       "      <td>NaN</td>\n",
       "    </tr>\n",
       "    <tr>\n",
       "      <th>1</th>\n",
       "      <td>Chaerhan Lake</td>\n",
       "      <td>CN</td>\n",
       "      <td>DLE</td>\n",
       "      <td>df_rotary_dryer_Chaerhan</td>\n",
       "      <td>DONE</td>\n",
       "      <td>0.000662</td>\n",
       "      <td>NaN</td>\n",
       "    </tr>\n",
       "    <tr>\n",
       "      <th>2</th>\n",
       "      <td>Cuenca Centenario-Ratones</td>\n",
       "      <td>AR</td>\n",
       "      <td>DLE</td>\n",
       "      <td>df_rotary_dryer_Salar de Centenario</td>\n",
       "      <td>DONE</td>\n",
       "      <td>0.000309</td>\n",
       "      <td>NaN</td>\n",
       "    </tr>\n",
       "    <tr>\n",
       "      <th>3</th>\n",
       "      <td>East Taijinair</td>\n",
       "      <td>CN</td>\n",
       "      <td>DLE</td>\n",
       "      <td>df_rotary_dryer_East Taijinar</td>\n",
       "      <td>DONE</td>\n",
       "      <td>0.0008</td>\n",
       "      <td>https://rslithium.com/research-report-on-lithi...</td>\n",
       "    </tr>\n",
       "    <tr>\n",
       "      <th>4</th>\n",
       "      <td>Fort Cady</td>\n",
       "      <td>US</td>\n",
       "      <td>Modelled as average</td>\n",
       "      <td>Other projects</td>\n",
       "      <td>NO; less than 1% of global production → Model ...</td>\n",
       "      <td>n.a.</td>\n",
       "      <td>NaN</td>\n",
       "    </tr>\n",
       "  </tbody>\n",
       "</table>\n",
       "</div>"
      ],
      "text/plain": [
       "                Project name Country           Technology  \\\n",
       "0            Cauchari-Olaroz      AR    Evaporative ponds   \n",
       "1              Chaerhan Lake      CN                  DLE   \n",
       "2  Cuenca Centenario-Ratones      AR                  DLE   \n",
       "3             East Taijinair      CN                  DLE   \n",
       "4                  Fort Cady      US  Modelled as average   \n",
       "\n",
       "                                LCI dataset  \\\n",
       "0  df_rotary_dryer_Salar de Cauchari-Olaroz   \n",
       "1                  df_rotary_dryer_Chaerhan   \n",
       "2       df_rotary_dryer_Salar de Centenario   \n",
       "3             df_rotary_dryer_East Taijinar   \n",
       "4                            Other projects   \n",
       "\n",
       "                         Relevance for LCI modelling Li concentration  \\\n",
       "0                                               DONE           0.0005   \n",
       "1                                               DONE         0.000662   \n",
       "2                                               DONE         0.000309   \n",
       "3                                               DONE           0.0008   \n",
       "4  NO; less than 1% of global production → Model ...             n.a.   \n",
       "\n",
       "                                      Other comments  \n",
       "0                                                NaN  \n",
       "1                                                NaN  \n",
       "2                                                NaN  \n",
       "3  https://rslithium.com/research-report-on-lithi...  \n",
       "4                                                NaN  "
      ]
     },
     "execution_count": 21,
     "metadata": {},
     "output_type": "execute_result"
    }
   ],
   "source": [
    "# Import the map between project names and LCI dataset\n",
    "map_lithium_projects_to_lci = pd.read_excel(SCENARIO_DATA_PATH / \"map_litihum_projects_to_lci.xlsx\")\n",
    "map_lithium_projects_to_lci.head()"
   ]
  },
  {
   "cell_type": "code",
   "execution_count": 22,
   "metadata": {},
   "outputs": [
    {
     "name": "stdout",
     "output_type": "stream",
     "text": [
      "Projects not in the mapping file:\n",
      "Projects not in the scenario:\n"
     ]
    }
   ],
   "source": [
    "# Check that all projects are in the mapping file and the other way around\n",
    "print(\"Projects not in the mapping file:\")\n",
    "for index, row in lithium_scenario_data.iterrows():\n",
    "    project_var = row[\"variables\"]\n",
    "    project_name = project_var.split('|')[-1]\n",
    "\n",
    "    if project_name not in list(map_lithium_projects_to_lci[\"Project name\"]):\n",
    "        print(project_name)\n",
    "\n",
    "print(\"Projects not in the scenario:\")\n",
    "for project_name in list(map_lithium_projects_to_lci[\"Project name\"]):\n",
    "    if project_name not in [i.split('|')[-1] for i in list(set(lithium_scenario_data[\"variables\"]))]:\n",
    "        print(project_name)"
   ]
  },
  {
   "cell_type": "code",
   "execution_count": 23,
   "metadata": {},
   "outputs": [],
   "source": [
    "other_projects_variables = []\n",
    "other_projects_production = []\n",
    "\n",
    "for index, row in lithium_scenario_data.iterrows():\n",
    "    project_var = row[\"variables\"]\n",
    "    project_name = project_var.split('|')[-1]\n",
    "    project_lci = map_lithium_projects_to_lci[map_lithium_projects_to_lci[\"Project name\"] == project_name][\"LCI dataset\"].values[0]\n",
    "        \n",
    "    if project_lci == \"Other projects\":\n",
    "        other_projects_variables.append(project_var)\n",
    "        other_projects_production.append([row[\"scenario\"], row[\"region\"], row[\"variables\"], row[\"unit\"]] + [row[year] for year in list_of_years]\n",
    "                    )\n",
    "        \n",
    "# Add other projects to scenario data:\n",
    "other_projects_production_df = pd.DataFrame(other_projects_production, columns=lithium_scenario_data.columns)\n",
    "other_projects_production_df = other_projects_production_df.groupby(['scenario', 'region', \"unit\"]).sum().reset_index()\n",
    "other_projects_production_df[\"variables\"] = \"Production|Lithium|Brine (Salar)|Other projects\"\n",
    "lithium_scenarios_premise_adjusted = pd.concat([lithium_scenario_data, other_projects_production_df], ignore_index=True)\n",
    "other_project_variables = list(set(other_projects_variables))\n",
    "lithium_scenarios_premise_adjusted = lithium_scenarios_premise_adjusted[~lithium_scenarios_premise_adjusted['variables'].isin(other_project_variables)]\n",
    "lithium_scenarios_premise_adjusted = lithium_scenarios_premise_adjusted.sort_values(by=\"scenario\").reset_index(drop=True)"
   ]
  },
  {
   "cell_type": "code",
   "execution_count": 24,
   "metadata": {},
   "outputs": [
    {
     "data": {
      "text/plain": [
       "['BO', 'US', 'CL', 'AR', 'CN', 'DE']"
      ]
     },
     "execution_count": 24,
     "metadata": {},
     "output_type": "execute_result"
    }
   ],
   "source": [
    "list(set(lithium_scenarios_premise_adjusted[\"region\"]))"
   ]
  },
  {
   "cell_type": "code",
   "execution_count": 25,
   "metadata": {},
   "outputs": [],
   "source": [
    "# Export scenario data file for use in premise\n",
    "lithium_scenarios_premise_adjusted[[\"scenario\", \"region\", \"variables\", \"unit\", \"2020\", \"2025\", \"2030\", \"2035\"]].to_csv(\n",
    "    SCENARIO_DATA_PATH / \"external\" / f\"lithium_scenario_data_with_others_{datetime.datetime.today().strftime('%d-%m-%Y')}.csv\", index=False)"
   ]
  },
  {
   "cell_type": "markdown",
   "metadata": {},
   "source": [
    "## Generate scenario results\n",
    "\n",
    "Results for Figure 2 in the main manuscript, including production per country, project, and total"
   ]
  },
  {
   "cell_type": "code",
   "execution_count": 26,
   "metadata": {},
   "outputs": [
    {
     "name": "stdout",
     "output_type": "stream",
     "text": [
      "Opnening existing annonymized projects ID list\n"
     ]
    }
   ],
   "source": [
    "# First, annonymize project names. Each project name is assigned a\n",
    "# unique number (except for names containing \"Other projects,\" which should be assigned as \"Others\")\n",
    "projects_id_path = SCENARIO_DATA_PATH / \"external\" / \"anonymized_projects_id.yaml\"\n",
    "\n",
    "# Check if the file already exists\n",
    "if projects_id_path.exists():\n",
    "    # If the file exists, open and load the existing content\n",
    "    print(\"Opnening existing annonymized projects ID list\")\n",
    "    with open(projects_id_path, \"r\") as yaml_file:\n",
    "        project_ids = yaml.safe_load(yaml_file)\n",
    "else:\n",
    "    # If the file does not exist, create a new mapping\n",
    "    print(\"Creating the annonymized projects ID list\")\n",
    "    project_ids = {}\n",
    "\n",
    "    counter = 1\n",
    "    for proj in list(set(lithium_scenarios_premise_adjusted[\"variables\"])):\n",
    "        if \"Other projects\" in proj:\n",
    "            project_ids[proj] = \"Others\"\n",
    "        else:\n",
    "            project_ids[proj] = f\"#{counter}\"\n",
    "            counter += 1\n",
    "\n",
    "    # Save the mapping as a new YAML file\n",
    "    with open(projects_id_path, \"w\") as yaml_file:\n",
    "        yaml.dump(project_ids, yaml_file, default_flow_style=False)"
   ]
  },
  {
   "cell_type": "code",
   "execution_count": 27,
   "metadata": {},
   "outputs": [],
   "source": [
    "# Production by country in each scenario\n",
    "lithium_production_by_country = lithium_scenarios_premise_adjusted[[\"scenario\", \"region\"] + [year for year in list_of_years]].groupby([\"scenario\", \"region\"]).sum()\n",
    "\n",
    "# Total production in each scenario\n",
    "total_lithium_production = lithium_production_by_country.groupby(level='scenario').sum()\n",
    "\n",
    "# Production shares by project in each scenario\n",
    "production_by_project = lithium_scenarios_premise_adjusted[[\"scenario\", \"variables\"] + [year for year in list_of_years]].groupby([\"scenario\", \"variables\"]).sum().reset_index().rename(columns={\"variables\": \"project\"})\n",
    "production_by_project['project'] = production_by_project['project'].replace(project_ids)\n",
    "production_by_project.set_index(['scenario', 'project'], inplace=True)\n",
    "sums_by_scenario_project = production_by_project.groupby('scenario').sum()\n",
    "production_share_by_project = production_by_project.div(sums_by_scenario_project)\n",
    "\n",
    "# Production by technology\n",
    "production_by_technology = []\n",
    "for index, row in lithium_scenarios_premise_adjusted.iterrows():\n",
    "    project_name = row[\"variables\"].split('|')[-1]\n",
    "    project_technology = map_lithium_projects_to_lci[map_lithium_projects_to_lci[\"Project name\"] == project_name][\"Technology\"].values\n",
    "\n",
    "    if len(project_technology) == 0:\n",
    "        project_technology = [\"Modelled as average\"]\n",
    "\n",
    "    production_entry = (row[\"scenario\"], project_technology[0]) + tuple(row[list_of_years])\n",
    "    production_by_technology.append(production_entry)\n",
    "\n",
    "production_by_technology_df = pd.DataFrame(production_by_technology, columns=[\"scenario\", \"technology\"] + list_of_years)\n",
    "production_by_technology_df = production_by_technology_df.groupby(['scenario', 'technology']).sum()"
   ]
  },
  {
   "cell_type": "code",
   "execution_count": 28,
   "metadata": {},
   "outputs": [],
   "source": [
    "# Export results\n",
    "lithium_production_by_country.to_csv(RESULTS_PATH / f\"lithium_production_by_country_{datetime.datetime.today().strftime('%d-%m-%Y')}.csv\")\n",
    "total_lithium_production.to_csv(RESULTS_PATH / f\"lithium_production_total_{datetime.datetime.today().strftime('%d-%m-%Y')}.csv\")\n",
    "production_share_by_project.to_csv(RESULTS_PATH / f\"lithium_production_share_by_project_{datetime.datetime.today().strftime('%d-%m-%Y')}.csv\")\n",
    "production_by_technology_df.to_csv(RESULTS_PATH / f\"lithium_production_by_technology_{datetime.datetime.today().strftime('%d-%m-%Y')}.csv\")"
   ]
  }
 ],
 "metadata": {
  "kernelspec": {
   "display_name": "lca_prosp",
   "language": "python",
   "name": "python3"
  },
  "language_info": {
   "codemirror_mode": {
    "name": "ipython",
    "version": 3
   },
   "file_extension": ".py",
   "mimetype": "text/x-python",
   "name": "python",
   "nbconvert_exporter": "python",
   "pygments_lexer": "ipython3",
   "version": "3.11.8"
  }
 },
 "nbformat": 4,
 "nbformat_minor": 2
}
