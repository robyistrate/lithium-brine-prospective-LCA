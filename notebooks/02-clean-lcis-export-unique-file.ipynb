{
 "cells": [
  {
   "cell_type": "markdown",
   "metadata": {},
   "source": [
    "# Site-specific LCIs\n",
    "\n",
    "This notebook imports the raw LCI datasets for brine sites and made some modifications:\n",
    "\n",
    "**Change 1: Formating LCI datasets metadata**\n",
    "\n",
    "- Update some metadata of activities like \"flow\" to \"reference product\", \"amount\" to \"production amount\", add \"database\", etc.\n",
    "- Some process names are used across projects (e.g., df_DLE_evaporation_ponds) - problematic to have everything in the same database - create unique activity names by adding the project name\n",
    "- Generate unique code with wurst\n",
    "- Location of foreground dataset is the name of the project (e.g., Chaerhan) - change to ISO location\n",
    "- Reference product is missing in activities and exchanges\n",
    "\n",
    "**Change 2: Update some LCI data and link to background processes and biosphere database**\n",
    "- Link water flows to the new biosphere database with regionalized water flows\n",
    "- Add \"input\" field for foreground processes\n",
    "- Inputs of \"heat production, natural gas, at industrial furnace >100kW\" and \"machine operation, diesel, >= 74.57 kW, high load factor\" have same location as project due to regionalization - change location to RoW"
   ]
  },
  {
   "cell_type": "code",
   "execution_count": 1,
   "metadata": {},
   "outputs": [],
   "source": [
    "import brightway2 as bw\n",
    "import bw2io\n",
    "import wurst\n",
    "import pandas as pd\n",
    "from pathlib import Path\n",
    "import shutil\n",
    "import copy\n",
    "from utils import relink_to_regionalized_water"
   ]
  },
  {
   "cell_type": "code",
   "execution_count": 2,
   "metadata": {},
   "outputs": [],
   "source": [
    "BW_PROJECT = 'lithium_brine'\n",
    "bw.projects.set_current(BW_PROJECT)\n",
    "\n",
    "DB_NAME = \"lithium_brine_projects\"\n",
    "EI_NAME = \"ecoinvent-3.10-cutoff\"\n",
    "BIO_NAME = \"ecoinvent-3.10-biosphere\"\n",
    "BIO_WATER_NAME = \"biosphere water regionalized\"\n",
    "\n",
    "technosphere = lambda x: x[\"type\"] == \"technosphere\"\n",
    "biosphere = lambda x: x[\"type\"] == \"biosphere\"\n",
    "production = lambda x: x[\"type\"] == \"production\"\n",
    "economic_flows = lambda x: x[\"type\"] in [\"technosphere\", \"production\"]"
   ]
  },
  {
   "cell_type": "markdown",
   "metadata": {},
   "source": [
    "## Import ecoinvent database and lithium LCIs"
   ]
  },
  {
   "cell_type": "code",
   "execution_count": 3,
   "metadata": {},
   "outputs": [
    {
     "name": "stdout",
     "output_type": "stream",
     "text": [
      "Getting activity data\n"
     ]
    },
    {
     "name": "stderr",
     "output_type": "stream",
     "text": [
      "100%|██████████| 23523/23523 [00:00<00:00, 81714.73it/s] \n"
     ]
    },
    {
     "name": "stdout",
     "output_type": "stream",
     "text": [
      "Adding exchange data to activities\n"
     ]
    },
    {
     "name": "stderr",
     "output_type": "stream",
     "text": [
      "100%|██████████| 743409/743409 [01:02<00:00, 11893.78it/s]\n"
     ]
    },
    {
     "name": "stdout",
     "output_type": "stream",
     "text": [
      "Filling out exchange data\n"
     ]
    },
    {
     "name": "stderr",
     "output_type": "stream",
     "text": [
      "100%|██████████| 23523/23523 [00:02<00:00, 8354.66it/s] \n"
     ]
    }
   ],
   "source": [
    "# Import ecoinvent database with wurst (i.e., list of dictionary, each dict being a dataset)\n",
    "try:\n",
    "  len(ei_db)\n",
    "except NameError:\n",
    "  ei_db = wurst.extract_brightway2_databases(EI_NAME)\n",
    "\n",
    "# Import biosphere database\n",
    "bio_db = [ds for ds in bw.Database(BIO_NAME)]"
   ]
  },
  {
   "cell_type": "code",
   "execution_count": 4,
   "metadata": {},
   "outputs": [],
   "source": [
    "# Import lithium LCIs\n",
    "lci_raw_path = Path(\"../inventories/raw\")\n",
    "lci_files = [file for file in lci_raw_path.glob(\"*.xlsx\")] + [file for file in lci_raw_path.glob(\"*.xls\")]\n",
    "\n",
    "def import_lci_dataset(lci_path, ei_name, bio_name):\n",
    "    lci = bw.ExcelImporter(lci_path)\n",
    "    lci.apply_strategies(verbose=False)\n",
    "    lci.match_database(ei_name, fields=('name', 'reference product', 'unit', 'location'))\n",
    "    lci.match_database(bio_name, fields=('name', 'unit', 'categories'))\n",
    "    return lci"
   ]
  },
  {
   "cell_type": "code",
   "execution_count": 5,
   "metadata": {},
   "outputs": [
    {
     "name": "stdout",
     "output_type": "stream",
     "text": [
      "Extracted 1 worksheets in 0.10 seconds\n",
      "Applying strategy: link_iterable_by_fields\n",
      "Applying strategy: link_iterable_by_fields\n",
      "Extracted 1 worksheets in 0.05 seconds\n",
      "Applying strategy: link_iterable_by_fields\n",
      "Applying strategy: link_iterable_by_fields\n",
      "Extracted 1 worksheets in 0.04 seconds\n",
      "Applying strategy: link_iterable_by_fields\n",
      "Applying strategy: link_iterable_by_fields\n",
      "Extracted 1 worksheets in 0.04 seconds\n",
      "Applying strategy: link_iterable_by_fields\n",
      "Applying strategy: link_iterable_by_fields\n",
      "Extracted 1 worksheets in 0.04 seconds\n",
      "Applying strategy: link_iterable_by_fields\n",
      "Applying strategy: link_iterable_by_fields\n",
      "Extracted 1 worksheets in 0.02 seconds\n",
      "Applying strategy: link_iterable_by_fields\n",
      "Applying strategy: link_iterable_by_fields\n",
      "Extracted 1 worksheets in 0.04 seconds\n",
      "Applying strategy: link_iterable_by_fields\n",
      "Applying strategy: link_iterable_by_fields\n",
      "Extracted 1 worksheets in 0.03 seconds\n",
      "Applying strategy: link_iterable_by_fields\n",
      "Applying strategy: link_iterable_by_fields\n",
      "Extracted 1 worksheets in 0.02 seconds\n",
      "Applying strategy: link_iterable_by_fields\n",
      "Applying strategy: link_iterable_by_fields\n",
      "Extracted 1 worksheets in 0.06 seconds\n",
      "Applying strategy: link_iterable_by_fields\n",
      "Applying strategy: link_iterable_by_fields\n",
      "Extracted 1 worksheets in 0.02 seconds\n",
      "Applying strategy: link_iterable_by_fields\n",
      "Applying strategy: link_iterable_by_fields\n",
      "Extracted 1 worksheets in 0.02 seconds\n",
      "Applying strategy: link_iterable_by_fields\n",
      "Applying strategy: link_iterable_by_fields\n",
      "Extracted 1 worksheets in 0.03 seconds\n",
      "Applying strategy: link_iterable_by_fields\n",
      "Applying strategy: link_iterable_by_fields\n",
      "Extracted 1 worksheets in 0.02 seconds\n",
      "Applying strategy: link_iterable_by_fields\n",
      "Applying strategy: link_iterable_by_fields\n",
      "Extracted 1 worksheets in 0.02 seconds\n",
      "Applying strategy: link_iterable_by_fields\n",
      "Applying strategy: link_iterable_by_fields\n",
      "Extracted 1 worksheets in 0.03 seconds\n",
      "Applying strategy: link_iterable_by_fields\n",
      "Applying strategy: link_iterable_by_fields\n",
      "Extracted 1 worksheets in 0.03 seconds\n",
      "Applying strategy: link_iterable_by_fields\n",
      "Applying strategy: link_iterable_by_fields\n",
      "Extracted 1 worksheets in 0.03 seconds\n",
      "Applying strategy: link_iterable_by_fields\n",
      "Applying strategy: link_iterable_by_fields\n",
      "Extracted 1 worksheets in 0.04 seconds\n",
      "Applying strategy: link_iterable_by_fields\n",
      "Applying strategy: link_iterable_by_fields\n",
      "Extracted 1 worksheets in 0.04 seconds\n",
      "Applying strategy: link_iterable_by_fields\n",
      "Applying strategy: link_iterable_by_fields\n",
      "Extracted 1 worksheets in 0.05 seconds\n",
      "Applying strategy: link_iterable_by_fields\n",
      "Applying strategy: link_iterable_by_fields\n",
      "Extracted 1 worksheets in 0.03 seconds\n",
      "Applying strategy: link_iterable_by_fields\n",
      "Applying strategy: link_iterable_by_fields\n",
      "Extracted 1 worksheets in 0.03 seconds\n",
      "Applying strategy: link_iterable_by_fields\n",
      "Applying strategy: link_iterable_by_fields\n",
      "Extracted 1 worksheets in 0.03 seconds\n",
      "Applying strategy: link_iterable_by_fields\n",
      "Applying strategy: link_iterable_by_fields\n",
      "Extracted 1 worksheets in 0.03 seconds\n",
      "Applying strategy: link_iterable_by_fields\n",
      "Applying strategy: link_iterable_by_fields\n",
      "Extracted 1 worksheets in 0.02 seconds\n",
      "Applying strategy: link_iterable_by_fields\n",
      "Applying strategy: link_iterable_by_fields\n",
      "Extracted 1 worksheets in 0.03 seconds\n",
      "Applying strategy: link_iterable_by_fields\n",
      "Applying strategy: link_iterable_by_fields\n",
      "Extracted 1 worksheets in 0.04 seconds\n",
      "Applying strategy: link_iterable_by_fields\n",
      "Applying strategy: link_iterable_by_fields\n"
     ]
    }
   ],
   "source": [
    "# key: name of the project \\\n",
    "# value: dictionary containing the LCI\n",
    "lci_raw_dict = {}\n",
    "for file in lci_files:\n",
    "    lci_project = import_lci_dataset(file, EI_NAME, BIO_NAME)\n",
    "    lci_raw_dict.update({lci_project.db_name: lci_project.data})"
   ]
  },
  {
   "cell_type": "markdown",
   "metadata": {},
   "source": [
    "## Change 1: Formating LCI datasets metadata"
   ]
  },
  {
   "cell_type": "code",
   "execution_count": 6,
   "metadata": {},
   "outputs": [
    {
     "data": {
      "text/plain": [
       "['Chaerhan',\n",
       " 'East Taijinar',\n",
       " 'Fenix',\n",
       " 'Kachi',\n",
       " 'Lakkor Tso',\n",
       " 'Maricunga',\n",
       " 'Pozuelos',\n",
       " 'Qinghai Yiliping',\n",
       " 'Sal de los Angeles',\n",
       " 'Sal de Vida',\n",
       " 'Salar de Antofalla',\n",
       " 'Salar de Arizaro',\n",
       " 'Salar de Atacama',\n",
       " 'Salar de Cauchari-Olaroz',\n",
       " 'Salar de Centenario',\n",
       " 'Salar de Olaroz',\n",
       " 'Salar de Pastos Grandes',\n",
       " 'Salar de Rio Grande',\n",
       " 'Salar de Salinas Grandes',\n",
       " 'Salar de Tolillar',\n",
       " 'Salar de Uyuni',\n",
       " 'Salar del Hombre Muerto North',\n",
       " 'Salar del Rincon',\n",
       " 'Salton Sea',\n",
       " 'Silver Peak',\n",
       " 'Tres Quebradas',\n",
       " 'Upper Rhine Graben',\n",
       " 'Zhabuye']"
      ]
     },
     "execution_count": 6,
     "metadata": {},
     "output_type": "execute_result"
    }
   ],
   "source": [
    "list(lci_raw_dict.keys())"
   ]
  },
  {
   "cell_type": "code",
   "execution_count": 7,
   "metadata": {},
   "outputs": [],
   "source": [
    "projects_locations = {\n",
    "    'Chaerhan': \"CN\",\n",
    "    'Fenix': \"AR\",\n",
    "    'Kachi': \"AR\",\n",
    "    'Maricunga': \"CL\",\n",
    "    'Pozuelos': \"AR\",\n",
    "    'Qinghai Yiliping': \"CN\",\n",
    "    'Sal de los Angeles': \"AR\",\n",
    "    'Sal de Vida': \"AR\",\n",
    "    'Salar de Antofalla': \"AR\",\n",
    "    'Salar de Arizaro': \"AR\",\n",
    "    'Salar de Atacama': \"CL\",\n",
    "    'Salar de Cauchari-Olaroz': \"AR\",\n",
    "    'Salar de Centenario': \"AR\",\n",
    "    'Salar de Olaroz': \"AR\",\n",
    "    'Salar de Pastos Grandes': \"AR\",\n",
    "    'Salar de Rio Grande': \"AR\",\n",
    "    'Salar de Salinas Grandes': \"AR\",\n",
    "    'Salar de Tolillar': \"AR\",\n",
    "    'Salar de Uyuni': \"BO\",\n",
    "    'Salar del Hombre Muerto North': \"AR\",\n",
    "    'Salar del Rincon': \"AR\",\n",
    "    'Salton Sea': \"US\",\n",
    "    'Silver Peak': \"US\",\n",
    "    'Tres Quebradas': \"AR\",\n",
    "    'Upper Rhine Graben': \"DE\",\n",
    "    'Zhabuye': \"CN\",\n",
    "    \"East Taijinar\": \"CN\",\n",
    "    \"Lakkor Tso\": \"CN\"\n",
    "}"
   ]
  },
  {
   "cell_type": "code",
   "execution_count": 8,
   "metadata": {},
   "outputs": [],
   "source": [
    "unique_names = {}\n",
    "\n",
    "for project in lci_raw_dict:\n",
    "    \n",
    "    # Create unique names for datasets associated with the project\n",
    "    unique_names = {ds[\"name\"]: ds[\"name\"] + \"_\" + project for ds in lci_raw_dict[project]}\n",
    "\n",
    "    # Some changes in datasets metadata\n",
    "    for ds in lci_raw_dict[project]:\n",
    "        if \"flow\" in ds:\n",
    "            ds['reference product'] = ds.pop('flow')\n",
    "        if \"amount\" in ds:\n",
    "            ds['production amount'] = ds.pop('amount')\n",
    "        ds[\"database\"] = DB_NAME\n",
    "\n",
    "        # Change to unique activity name\n",
    "        if ds[\"name\"] in unique_names.keys():\n",
    "            ds.update({\"name\": unique_names[ds[\"name\"]]})\n",
    "\n",
    "        # Generate unique code\n",
    "        ds.update({\"code\": wurst.filesystem.get_uuid()})\n",
    "\n",
    "        # Change location of activity\n",
    "        if ds[\"location\"] in projects_locations.keys():\n",
    "            ds.update({\"location\": projects_locations[ds[\"location\"]]})\n",
    "\n",
    "    # Make some changes in the exchange flows:\n",
    "    for ds in lci_raw_dict[project]:\n",
    "        for exc in filter(economic_flows, ds[\"exchanges\"]):\n",
    "\n",
    "            # Add product and input to production exchanges:\n",
    "            # \"product\" is used instead of \"reference product\" for wurst\n",
    "            if exc in filter(production, ds[\"exchanges\"]):\n",
    "                exc.update({\n",
    "                        \"product\": ds[\"reference product\"],\n",
    "                        \"input\": (ds[\"database\"], ds[\"code\"])\n",
    "                    })\n",
    "\n",
    "            # Change exchange name to unique name\n",
    "            if exc[\"name\"] in unique_names.keys():\n",
    "                exc.update({\"name\": unique_names[exc[\"name\"]]})\n",
    "                \n",
    "            if exc[\"location\"] in projects_locations.keys():\n",
    "                exc.update({\"location\": projects_locations[exc[\"location\"]]})"
   ]
  },
  {
   "cell_type": "markdown",
   "metadata": {},
   "source": [
    "## Change 2: Link to background processes and biosphere database"
   ]
  },
  {
   "cell_type": "code",
   "execution_count": 9,
   "metadata": {},
   "outputs": [],
   "source": [
    "# Find if there is any background dataset that is not available in ecoinvent\n",
    "list_of_foreground_ds = [ds[\"name\"] for project in lci_raw_dict for ds in lci_raw_dict[project]]\n",
    "list_of_ei_ds = [(ds[\"name\"], ds[\"location\"]) for ds in bw.Database(EI_NAME)]\n",
    "\n",
    "no_ecoinvent_lcis = []\n",
    "\n",
    "for project in lci_raw_dict:\n",
    "    for ds in lci_raw_dict[project]:\n",
    "        for exc in filter(technosphere, ds[\"exchanges\"]):\n",
    "            # Do this only for background datasets; i.e., datasets that are not in the project associated datasets\n",
    "            if exc[\"name\"] not in list_of_foreground_ds:\n",
    "                exc_ds = [ds for ds in list_of_ei_ds if ds[0] == exc[\"name\"] and ds[1] == exc[\"location\"]]\n",
    "                if len(exc_ds) == 0:\n",
    "                    no_ecoinvent_lcis.append((exc[\"name\"], exc[\"location\"]))\n",
    "\n",
    "no_ecoinvent_lcis = list(set(no_ecoinvent_lcis))"
   ]
  },
  {
   "cell_type": "code",
   "execution_count": 10,
   "metadata": {},
   "outputs": [
    {
     "data": {
      "text/plain": [
       "[('market for wastewater, average', 'US'),\n",
       " ('market for wastewater, average', 'CN'),\n",
       " ('market for wastewater, average', 'DE'),\n",
       " ('market for wastewater, average', 'BO'),\n",
       " ('market for wastewater, average', 'AR'),\n",
       " ('heat production, natural gas, at industrial furnace >100kW', 'CN'),\n",
       " ('sodium hydroxide to generic market for neutralising agent', 'GLO'),\n",
       " ('heat production, natural gas, at industrial furnace >100kW', 'US'),\n",
       " ('heat production, natural gas, at industrial furnace >100kW', 'BO'),\n",
       " ('heat production, natural gas, at industrial furnace >100kW', 'DE'),\n",
       " ('machine operation, diesel, >= 74.57 kW, high load factor', 'CL'),\n",
       " ('heat production, natural gas, at industrial furnace >100kW', 'AR'),\n",
       " ('market for soda ash, light', 'GLO'),\n",
       " ('deep well drilling, for deep geothermal power reg', 'DE'),\n",
       " ('machine operation, diesel, >= 74.57 kW, high load factor', 'CN'),\n",
       " ('machine operation, diesel, >= 74.57 kW, high load factor', 'US'),\n",
       " ('market for wastewater, average', 'CL'),\n",
       " ('machine operation, diesel, >= 74.57 kW, high load factor', 'BO'),\n",
       " ('deep well drilling, for deep geothermal power reg', 'US-WECC'),\n",
       " ('machine operation, diesel, >= 74.57 kW, high load factor', 'AR'),\n",
       " ('heat production, natural gas, at industrial furnace >100kW', 'CL')]"
      ]
     },
     "execution_count": 10,
     "metadata": {},
     "output_type": "execute_result"
    }
   ],
   "source": [
    "no_ecoinvent_lcis"
   ]
  },
  {
   "cell_type": "code",
   "execution_count": 11,
   "metadata": {},
   "outputs": [],
   "source": [
    "for project in lci_raw_dict:\n",
    "    \n",
    "    for ds in lci_raw_dict[project]:\n",
    "        # Add product and input to technosphere exchanges:\n",
    "        for exc in filter(technosphere, ds[\"exchanges\"]):\n",
    "\n",
    "            # Find datasets for foreground exchanges\n",
    "            if exc[\"name\"] in list_of_foreground_ds:\n",
    "                exc_ds = [d for project in lci_raw_dict for d in lci_raw_dict[project] if d[\"name\"] == exc[\"name\"]]\n",
    "                \n",
    "             # Find dataset for background exchanges:\n",
    "            else:\n",
    "                \n",
    "                # Change several locations to RoW:\n",
    "                if exc[\"name\"] in [\"heat production, natural gas, at industrial furnace >100kW\",\n",
    "                                   \"market for wastewater, average\",\n",
    "                                   \"market for soda ash, light\",\n",
    "                                   \"sodium hydroxide to generic market for neutralising agent\"]:\n",
    "                    exc.update({\"location\": \"RoW\"})  \n",
    "\n",
    "                # Change location of mechine diesel to GLO:\n",
    "                if exc[\"name\"] == \"machine operation, diesel, >= 74.57 kW, high load factor\":\n",
    "                    exc.update({\"location\": \"GLO\"})          \n",
    "      \n",
    "                # Change name and location of 'deep well drilling, for deep geothermal power reg'\n",
    "                if exc[\"name\"] == \"deep well drilling, for deep geothermal power reg\":\n",
    "                    exc.update({\"name\": \"deep well drilling, for deep geothermal power\"})\n",
    "                    if exc[\"location\"] == \"US-WECC\":\n",
    "                        exc.update({\"location\": \"US-HICC\"})\n",
    "\n",
    "                exc_ds = [ds for ds in bw.Database(EI_NAME) if ds[\"name\"] == exc[\"name\"] and \n",
    "                                                               ds[\"location\"] == exc[\"location\"] and\n",
    "                                                               ds[\"unit\"] == exc[\"unit\"]]\n",
    "                \n",
    "            if len(exc_ds) > 1:\n",
    "                raise ValueError(\"More than one dataset for exchange\", (exc[\"name\"], exc[\"location\"])) \n",
    "                \n",
    "            if len(exc_ds) == 0:\n",
    "                raise ValueError(\"LCI dataset not found for\", (exc[\"name\"], exc[\"location\"]))\n",
    "            \n",
    "            # \"product\" is used instead of \"reference product\" for wurst\n",
    "            exc.update({\n",
    "                    \"product\": exc_ds[0][\"reference product\"],\n",
    "                    \"input\": (exc_ds[0][\"database\"], exc_ds[0][\"code\"])\n",
    "                })"
   ]
  },
  {
   "cell_type": "code",
   "execution_count": 13,
   "metadata": {},
   "outputs": [],
   "source": [
    "# Find biosphere flows that are not in the biosphere database\n",
    "list_of_bio_ds = [(ds[\"name\"], ds[\"categories\"]) for ds in bw.Database(BIO_NAME)]\n",
    "no_biosphere_flows = []\n",
    "\n",
    "for project in lci_raw_dict:\n",
    "    for ds in lci_raw_dict[project]:\n",
    "        for exc in filter(biosphere, ds[\"exchanges\"]):\n",
    "            if (exc[\"name\"], exc[\"categories\"])  not in list_of_bio_ds:\n",
    "                no_biosphere_flows.append(exc[\"name\"])"
   ]
  },
  {
   "cell_type": "code",
   "execution_count": 14,
   "metadata": {},
   "outputs": [
    {
     "data": {
      "text/plain": [
       "['Sodium',\n",
       " 'Sodium',\n",
       " 'Sodium',\n",
       " 'Sodium',\n",
       " 'Sodium',\n",
       " 'Sodium',\n",
       " 'Sodium',\n",
       " 'Sodium',\n",
       " 'Sodium',\n",
       " 'Sodium',\n",
       " 'Sodium',\n",
       " 'Sodium',\n",
       " 'Sodium',\n",
       " 'Sodium',\n",
       " 'Sodium',\n",
       " 'Sodium',\n",
       " 'Sodium',\n",
       " 'Sodium',\n",
       " 'Sodium',\n",
       " 'Sodium',\n",
       " 'Sodium',\n",
       " 'Sodium',\n",
       " 'Sodium',\n",
       " 'Sodium',\n",
       " 'Sodium',\n",
       " 'Sodium',\n",
       " 'Sodium',\n",
       " 'Sodium',\n",
       " 'Sodium',\n",
       " 'Sodium',\n",
       " 'Sodium']"
      ]
     },
     "execution_count": 14,
     "metadata": {},
     "output_type": "execute_result"
    }
   ],
   "source": [
    "no_biosphere_flows"
   ]
  },
  {
   "cell_type": "code",
   "execution_count": 15,
   "metadata": {},
   "outputs": [],
   "source": [
    "# Update \"Sodium\" to \"Sodium I\"\n",
    "sodium_i_ds = [ds for ds in bw.Database(BIO_NAME) if ds[\"name\"]==\"Sodium I\" and ds[\"categories\"]==(\"water\",)][0]\n",
    "\n",
    "for project in lci_raw_dict:\n",
    "    for ds in lci_raw_dict[project]:\n",
    "        for exc in filter(biosphere, ds[\"exchanges\"]):\n",
    "            if exc[\"name\"] == \"Sodium\":\n",
    "                exc[\"name\"] = \"Sodium I\"\n",
    "                exc[\"input\"] = sodium_i_ds.key"
   ]
  },
  {
   "cell_type": "markdown",
   "metadata": {},
   "source": [
    "### Link water flows to regionalized biosphere"
   ]
  },
  {
   "cell_type": "code",
   "execution_count": 16,
   "metadata": {},
   "outputs": [],
   "source": [
    "water_flows_regionalized = [act for act in bw.Database(BIO_WATER_NAME)]\n",
    "\n",
    "for project in lci_raw_dict:\n",
    "    for ds in lci_raw_dict[project]:\n",
    "        relink_to_regionalized_water(water_flows_regionalized, ds, location=project)"
   ]
  },
  {
   "cell_type": "markdown",
   "metadata": {},
   "source": [
    "### Export LCIs"
   ]
  },
  {
   "cell_type": "code",
   "execution_count": 17,
   "metadata": {},
   "outputs": [],
   "source": [
    "lci_all = []\n",
    "for project in lci_raw_dict:\n",
    "    lci_all.extend(lci_raw_dict[project])"
   ]
  },
  {
   "cell_type": "code",
   "execution_count": 18,
   "metadata": {},
   "outputs": [
    {
     "name": "stdout",
     "output_type": "stream",
     "text": [
      "Vacuuming database \n",
      "505 datasets\n",
      "2611 exchanges\n",
      "0 unlinked exchanges\n",
      "  \n"
     ]
    },
    {
     "name": "stderr",
     "output_type": "stream",
     "text": [
      "Writing activities to SQLite3 database:\n",
      "0% [##############################] 100% | ETA: 00:00:00\n",
      "Total time elapsed: 00:00:00\n"
     ]
    },
    {
     "name": "stdout",
     "output_type": "stream",
     "text": [
      "Title: Writing activities to SQLite3 database:\n",
      "  Started: 04/05/2025 22:53:32\n",
      "  Finished: 04/05/2025 22:53:33\n",
      "  Total time elapsed: 00:00:00\n",
      "  CPU %: 91.90\n",
      "  Memory %: 20.79\n",
      "Created database: lithium_brine_projects\n"
     ]
    }
   ],
   "source": [
    "if DB_NAME in bw.databases:\n",
    "    del bw.databases[DB_NAME]\n",
    "wurst.write_brightway2_database(lci_all, DB_NAME)"
   ]
  },
  {
   "cell_type": "code",
   "execution_count": 19,
   "metadata": {},
   "outputs": [
    {
     "data": {
      "text/plain": [
       "'..\\\\inventories\\\\lci-lithium_brine_projects.xlsx'"
      ]
     },
     "execution_count": 19,
     "metadata": {},
     "output_type": "execute_result"
    }
   ],
   "source": [
    "# Export inventories to excel file:\n",
    "export_path = bw2io.export.excel.write_lci_excel(DB_NAME)\n",
    "filepath = Path(\"../inventories\")\n",
    "shutil.copy(export_path, filepath)"
   ]
  },
  {
   "cell_type": "code",
   "execution_count": null,
   "metadata": {},
   "outputs": [],
   "source": []
  }
 ],
 "metadata": {
  "kernelspec": {
   "display_name": "lca_prosp",
   "language": "python",
   "name": "python3"
  },
  "language_info": {
   "codemirror_mode": {
    "name": "ipython",
    "version": 3
   },
   "file_extension": ".py",
   "mimetype": "text/x-python",
   "name": "python",
   "nbconvert_exporter": "python",
   "pygments_lexer": "ipython3",
   "version": "3.11.8"
  }
 },
 "nbformat": 4,
 "nbformat_minor": 2
}
